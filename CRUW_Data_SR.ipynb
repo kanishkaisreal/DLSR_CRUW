{
 "cells": [
  {
   "cell_type": "code",
   "execution_count": 3,
   "id": "9a45717f",
   "metadata": {},
   "outputs": [
    {
     "ename": "ModuleNotFoundError",
     "evalue": "No module named 'tensorflow'",
     "output_type": "error",
     "traceback": [
      "\u001b[0;31m---------------------------------------------------------------------------\u001b[0m",
      "\u001b[0;31mModuleNotFoundError\u001b[0m                       Traceback (most recent call last)",
      "Input \u001b[0;32mIn [3]\u001b[0m, in \u001b[0;36m<cell line: 3>\u001b[0;34m()\u001b[0m\n\u001b[1;32m      1\u001b[0m \u001b[38;5;28;01mimport\u001b[39;00m \u001b[38;5;21;01mnumpy\u001b[39;00m \u001b[38;5;28;01mas\u001b[39;00m \u001b[38;5;21;01mnp\u001b[39;00m\n\u001b[1;32m      2\u001b[0m \u001b[38;5;28;01mimport\u001b[39;00m \u001b[38;5;21;01mglob\u001b[39;00m\n\u001b[0;32m----> 3\u001b[0m \u001b[38;5;28;01mimport\u001b[39;00m \u001b[38;5;21;01mtensorflow\u001b[39;00m \u001b[38;5;28;01mas\u001b[39;00m \u001b[38;5;21;01mtf\u001b[39;00m\n\u001b[1;32m      4\u001b[0m \u001b[38;5;28;01mfrom\u001b[39;00m \u001b[38;5;21;01mtensorflow\u001b[39;00m\u001b[38;5;21;01m.\u001b[39;00m\u001b[38;5;21;01mkeras\u001b[39;00m \u001b[38;5;28;01mimport\u001b[39;00m Model, Input, regularizers, initializers\n\u001b[1;32m      5\u001b[0m \u001b[38;5;28;01mfrom\u001b[39;00m \u001b[38;5;21;01mtensorflow\u001b[39;00m\u001b[38;5;21;01m.\u001b[39;00m\u001b[38;5;21;01mkeras\u001b[39;00m\u001b[38;5;21;01m.\u001b[39;00m\u001b[38;5;21;01mlayers\u001b[39;00m \u001b[38;5;28;01mimport\u001b[39;00m Dense, Conv2D, MaxPool2D, UpSampling2D, Add, Dropout\n",
      "\u001b[0;31mModuleNotFoundError\u001b[0m: No module named 'tensorflow'"
     ]
    }
   ],
   "source": [
    "                                                                                                                                                                                                                                                                                                                                                                                                                                                                                                                                                                                                                                                                                                                                                                                                                                                                                                                                                                                                                                                                                                                                                            import numpy as np\n",
    "import glob\n",
    "import tensorflow as tf\n",
    "from tensorflow.keras import Model, Input, regularizers, initializers\n",
    "from tensorflow.keras.layers import Dense, Conv2D, MaxPool2D, UpSampling2D, Add, Dropout\n",
    "from tensorflow.keras.callbacks import EarlyStopping, ModelCheckpoint\n",
    "from tensorflow.keras.preprocessing import image\n",
    "import matplotlib.pyplot as plt\n",
    "from sklearn.model_selection import train_test_split\n",
    "import pickle\n",
    "from sklearn.utils import shuffle\n",
    "import PIL.ImageOps\n",
    "import os"
   ]
  },
  {
   "cell_type": "code",
   "execution_count": 2,
   "id": "1d697338",
   "metadata": {},
   "outputs": [
    {
     "name": "stderr",
     "output_type": "stream",
     "text": [
      "2022-04-29 12:45:03.026399: I tensorflow/compiler/jit/xla_cpu_device.cc:41] Not creating XLA devices, tf_xla_enable_xla_devices not set\n",
      "2022-04-29 12:45:03.027531: I tensorflow/stream_executor/platform/default/dso_loader.cc:49] Successfully opened dynamic library libcuda.so.1\n",
      "2022-04-29 12:45:03.094149: I tensorflow/stream_executor/cuda/cuda_gpu_executor.cc:941] successful NUMA node read from SysFS had negative value (-1), but there must be at least one NUMA node, so returning NUMA node zero\n",
      "2022-04-29 12:45:03.095509: I tensorflow/core/common_runtime/gpu/gpu_device.cc:1720] Found device 0 with properties: \n",
      "pciBusID: 0000:0f:00.0 name: NVIDIA GeForce GTX 1080 Ti computeCapability: 6.1\n",
      "coreClock: 1.607GHz coreCount: 28 deviceMemorySize: 10.91GiB deviceMemoryBandwidth: 451.17GiB/s\n",
      "2022-04-29 12:45:03.095563: I tensorflow/stream_executor/platform/default/dso_loader.cc:49] Successfully opened dynamic library libcudart.so.10.1\n",
      "2022-04-29 12:45:03.098767: I tensorflow/stream_executor/platform/default/dso_loader.cc:49] Successfully opened dynamic library libcublas.so.10\n",
      "2022-04-29 12:45:03.098860: I tensorflow/stream_executor/platform/default/dso_loader.cc:49] Successfully opened dynamic library libcublasLt.so.10\n",
      "2022-04-29 12:45:03.101203: I tensorflow/stream_executor/platform/default/dso_loader.cc:49] Successfully opened dynamic library libcufft.so.10\n",
      "2022-04-29 12:45:03.101720: I tensorflow/stream_executor/platform/default/dso_loader.cc:49] Successfully opened dynamic library libcurand.so.10\n",
      "2022-04-29 12:45:03.104831: I tensorflow/stream_executor/platform/default/dso_loader.cc:49] Successfully opened dynamic library libcusolver.so.10\n",
      "2022-04-29 12:45:03.106102: I tensorflow/stream_executor/platform/default/dso_loader.cc:49] Successfully opened dynamic library libcusparse.so.10\n",
      "2022-04-29 12:45:03.110194: I tensorflow/stream_executor/platform/default/dso_loader.cc:49] Successfully opened dynamic library libcudnn.so.7\n",
      "2022-04-29 12:45:03.110406: I tensorflow/stream_executor/cuda/cuda_gpu_executor.cc:941] successful NUMA node read from SysFS had negative value (-1), but there must be at least one NUMA node, so returning NUMA node zero\n",
      "2022-04-29 12:45:03.111279: I tensorflow/stream_executor/cuda/cuda_gpu_executor.cc:941] successful NUMA node read from SysFS had negative value (-1), but there must be at least one NUMA node, so returning NUMA node zero\n",
      "2022-04-29 12:45:03.111848: I tensorflow/core/common_runtime/gpu/gpu_device.cc:1862] Adding visible gpu devices: 0\n",
      "2022-04-29 12:45:03.112518: I tensorflow/core/platform/cpu_feature_guard.cc:142] This TensorFlow binary is optimized with oneAPI Deep Neural Network Library (oneDNN) to use the following CPU instructions in performance-critical operations:  SSE4.1 SSE4.2\n",
      "To enable them in other operations, rebuild TensorFlow with the appropriate compiler flags.\n",
      "2022-04-29 12:45:03.113529: I tensorflow/compiler/jit/xla_gpu_device.cc:99] Not creating XLA devices, tf_xla_enable_xla_devices not set\n",
      "2022-04-29 12:45:03.113658: I tensorflow/stream_executor/cuda/cuda_gpu_executor.cc:941] successful NUMA node read from SysFS had negative value (-1), but there must be at least one NUMA node, so returning NUMA node zero\n",
      "2022-04-29 12:45:03.114495: I tensorflow/core/common_runtime/gpu/gpu_device.cc:1720] Found device 0 with properties: \n",
      "pciBusID: 0000:0f:00.0 name: NVIDIA GeForce GTX 1080 Ti computeCapability: 6.1\n",
      "coreClock: 1.607GHz coreCount: 28 deviceMemorySize: 10.91GiB deviceMemoryBandwidth: 451.17GiB/s\n",
      "2022-04-29 12:45:03.114540: I tensorflow/stream_executor/platform/default/dso_loader.cc:49] Successfully opened dynamic library libcudart.so.10.1\n",
      "2022-04-29 12:45:03.114583: I tensorflow/stream_executor/platform/default/dso_loader.cc:49] Successfully opened dynamic library libcublas.so.10\n",
      "2022-04-29 12:45:03.114621: I tensorflow/stream_executor/platform/default/dso_loader.cc:49] Successfully opened dynamic library libcublasLt.so.10\n",
      "2022-04-29 12:45:03.114658: I tensorflow/stream_executor/platform/default/dso_loader.cc:49] Successfully opened dynamic library libcufft.so.10\n",
      "2022-04-29 12:45:03.114695: I tensorflow/stream_executor/platform/default/dso_loader.cc:49] Successfully opened dynamic library libcurand.so.10\n",
      "2022-04-29 12:45:03.114733: I tensorflow/stream_executor/platform/default/dso_loader.cc:49] Successfully opened dynamic library libcusolver.so.10\n",
      "2022-04-29 12:45:03.114773: I tensorflow/stream_executor/platform/default/dso_loader.cc:49] Successfully opened dynamic library libcusparse.so.10\n",
      "2022-04-29 12:45:03.114811: I tensorflow/stream_executor/platform/default/dso_loader.cc:49] Successfully opened dynamic library libcudnn.so.7\n",
      "2022-04-29 12:45:03.114904: I tensorflow/stream_executor/cuda/cuda_gpu_executor.cc:941] successful NUMA node read from SysFS had negative value (-1), but there must be at least one NUMA node, so returning NUMA node zero\n",
      "2022-04-29 12:45:03.115771: I tensorflow/stream_executor/cuda/cuda_gpu_executor.cc:941] successful NUMA node read from SysFS had negative value (-1), but there must be at least one NUMA node, so returning NUMA node zero\n",
      "2022-04-29 12:45:03.116482: I tensorflow/core/common_runtime/gpu/gpu_device.cc:1862] Adding visible gpu devices: 0\n",
      "2022-04-29 12:45:03.116527: I tensorflow/stream_executor/platform/default/dso_loader.cc:49] Successfully opened dynamic library libcudart.so.10.1\n",
      "2022-04-29 12:45:03.865763: I tensorflow/core/common_runtime/gpu/gpu_device.cc:1261] Device interconnect StreamExecutor with strength 1 edge matrix:\n",
      "2022-04-29 12:45:03.865815: I tensorflow/core/common_runtime/gpu/gpu_device.cc:1267]      0 \n",
      "2022-04-29 12:45:03.865826: I tensorflow/core/common_runtime/gpu/gpu_device.cc:1280] 0:   N \n",
      "2022-04-29 12:45:03.866116: I tensorflow/stream_executor/cuda/cuda_gpu_executor.cc:941] successful NUMA node read from SysFS had negative value (-1), but there must be at least one NUMA node, so returning NUMA node zero\n",
      "2022-04-29 12:45:03.866809: I tensorflow/stream_executor/cuda/cuda_gpu_executor.cc:941] successful NUMA node read from SysFS had negative value (-1), but there must be at least one NUMA node, so returning NUMA node zero\n",
      "2022-04-29 12:45:03.867444: I tensorflow/stream_executor/cuda/cuda_gpu_executor.cc:941] successful NUMA node read from SysFS had negative value (-1), but there must be at least one NUMA node, so returning NUMA node zero\n",
      "2022-04-29 12:45:03.868043: I tensorflow/core/common_runtime/gpu/gpu_device.cc:1406] Created TensorFlow device (/job:localhost/replica:0/task:0/device:GPU:0 with 9973 MB memory) -> physical GPU (device: 0, name: NVIDIA GeForce GTX 1080 Ti, pci bus id: 0000:0f:00.0, compute capability: 6.1)\n"
     ]
    }
   ],
   "source": [
    "img_size = (128,128,1)\n",
    "\n",
    "Input_img = Input(shape=img_size)  \n",
    "\n",
    "#encoding architecture\n",
    "# x1 = Conv2D(64, (3, 3), activation='relu', padding='same', \n",
    "#             kernel_initializer=initializers.RandomNormal(stddev=5), bias_initializer='zeros')(Input_img)\n",
    "x1 = Conv2D(64, (3, 3), activation='relu', padding='same')(Input_img)\n",
    "x2 = Conv2D(64, (3, 3), activation='relu', padding='same')(x1)\n",
    "x3 = MaxPool2D(padding='same')(x2)\n",
    "x4 = Conv2D(128, (3, 3), activation='relu', padding='same')(x3)\n",
    "x5 = Conv2D(128, (3, 3), activation='relu', padding='same')(x4)\n",
    "x6 = MaxPool2D(padding='same')(x5)\n",
    "x7 = Conv2D(256, (3, 3), activation='relu', padding='same')(x6)\n",
    "x8 = Conv2D(256, (3, 3), activation='relu', padding='same')(x7)\n",
    "x9 = MaxPool2D(padding='same')(x8)\n",
    "encoded = Conv2D(512, (3, 3), activation='relu', padding='same')(x9)\n",
    "#encoded = Conv2D(64, (3, 3), activation='relu', padding='same')(x2)\n",
    "\n",
    "# decoding architecture\n",
    "x10 = UpSampling2D()(encoded)\n",
    "x11 = Conv2D(256, (3, 3), activation='relu', padding='same')(x10)\n",
    "x12 = Conv2D(256, (3, 3), activation='relu', padding='same')(x11)\n",
    "x13 = Add()([x8, x12])\n",
    "x14 = UpSampling2D()(x13)\n",
    "x15 = Conv2D(128, (3, 3), activation='relu', padding='same')(x14)\n",
    "x16 = Conv2D(128, (3, 3), activation='relu', padding='same')(x15)\n",
    "x17 = Add()([x5, x16])\n",
    "x18 = UpSampling2D()(x17)\n",
    "x19 = Conv2D(64, (3, 3), activation='relu', padding='same')(x18)\n",
    "x20 = Conv2D(64, (3, 3), activation='relu', padding='same')(x19)\n",
    "x21 = Add()([x2, x20])\n",
    "# x3 = UpSampling2D((2, 2))(x3)\n",
    "# x2 = Conv2D(128, (3, 3), activation='relu', padding='same')(x3)\n",
    "# x1 = Conv2D(256, (3, 3), activation='relu', padding='same')(x2)\n",
    "decoded = Conv2D(1, (3, 3), padding='same',activation='relu')(x21)\n",
    "\n",
    "enc_dec = Model(Input_img, decoded)\n",
    "# loss_rec = tf.reduce_mean(tf.image.ssim(truth, reconstructed, 2.0))\n",
    "enc_dec.compile(optimizer='adam', loss='mse', metrics=['accuracy'])"
   ]
  },
  {
   "cell_type": "code",
   "execution_count": 3,
   "id": "58431b72",
   "metadata": {
    "scrolled": true
   },
   "outputs": [
    {
     "name": "stdout",
     "output_type": "stream",
     "text": [
      "Model: \"model\"\n",
      "__________________________________________________________________________________________________\n",
      "Layer (type)                    Output Shape         Param #     Connected to                     \n",
      "==================================================================================================\n",
      "input_1 (InputLayer)            [(None, 128, 128, 1) 0                                            \n",
      "__________________________________________________________________________________________________\n",
      "conv2d (Conv2D)                 (None, 128, 128, 64) 640         input_1[0][0]                    \n",
      "__________________________________________________________________________________________________\n",
      "conv2d_1 (Conv2D)               (None, 128, 128, 64) 36928       conv2d[0][0]                     \n",
      "__________________________________________________________________________________________________\n",
      "max_pooling2d (MaxPooling2D)    (None, 64, 64, 64)   0           conv2d_1[0][0]                   \n",
      "__________________________________________________________________________________________________\n",
      "conv2d_2 (Conv2D)               (None, 64, 64, 128)  73856       max_pooling2d[0][0]              \n",
      "__________________________________________________________________________________________________\n",
      "conv2d_3 (Conv2D)               (None, 64, 64, 128)  147584      conv2d_2[0][0]                   \n",
      "__________________________________________________________________________________________________\n",
      "max_pooling2d_1 (MaxPooling2D)  (None, 32, 32, 128)  0           conv2d_3[0][0]                   \n",
      "__________________________________________________________________________________________________\n",
      "conv2d_4 (Conv2D)               (None, 32, 32, 256)  295168      max_pooling2d_1[0][0]            \n",
      "__________________________________________________________________________________________________\n",
      "conv2d_5 (Conv2D)               (None, 32, 32, 256)  590080      conv2d_4[0][0]                   \n",
      "__________________________________________________________________________________________________\n",
      "max_pooling2d_2 (MaxPooling2D)  (None, 16, 16, 256)  0           conv2d_5[0][0]                   \n",
      "__________________________________________________________________________________________________\n",
      "conv2d_6 (Conv2D)               (None, 16, 16, 512)  1180160     max_pooling2d_2[0][0]            \n",
      "__________________________________________________________________________________________________\n",
      "up_sampling2d (UpSampling2D)    (None, 32, 32, 512)  0           conv2d_6[0][0]                   \n",
      "__________________________________________________________________________________________________\n",
      "conv2d_7 (Conv2D)               (None, 32, 32, 256)  1179904     up_sampling2d[0][0]              \n",
      "__________________________________________________________________________________________________\n",
      "conv2d_8 (Conv2D)               (None, 32, 32, 256)  590080      conv2d_7[0][0]                   \n",
      "__________________________________________________________________________________________________\n",
      "add (Add)                       (None, 32, 32, 256)  0           conv2d_5[0][0]                   \n",
      "                                                                 conv2d_8[0][0]                   \n",
      "__________________________________________________________________________________________________\n",
      "up_sampling2d_1 (UpSampling2D)  (None, 64, 64, 256)  0           add[0][0]                        \n",
      "__________________________________________________________________________________________________\n",
      "conv2d_9 (Conv2D)               (None, 64, 64, 128)  295040      up_sampling2d_1[0][0]            \n",
      "__________________________________________________________________________________________________\n",
      "conv2d_10 (Conv2D)              (None, 64, 64, 128)  147584      conv2d_9[0][0]                   \n",
      "__________________________________________________________________________________________________\n",
      "add_1 (Add)                     (None, 64, 64, 128)  0           conv2d_3[0][0]                   \n",
      "                                                                 conv2d_10[0][0]                  \n",
      "__________________________________________________________________________________________________\n",
      "up_sampling2d_2 (UpSampling2D)  (None, 128, 128, 128 0           add_1[0][0]                      \n",
      "__________________________________________________________________________________________________\n",
      "conv2d_11 (Conv2D)              (None, 128, 128, 64) 73792       up_sampling2d_2[0][0]            \n",
      "__________________________________________________________________________________________________\n",
      "conv2d_12 (Conv2D)              (None, 128, 128, 64) 36928       conv2d_11[0][0]                  \n",
      "__________________________________________________________________________________________________\n",
      "add_2 (Add)                     (None, 128, 128, 64) 0           conv2d_1[0][0]                   \n",
      "                                                                 conv2d_12[0][0]                  \n",
      "__________________________________________________________________________________________________\n",
      "conv2d_13 (Conv2D)              (None, 128, 128, 1)  577         add_2[0][0]                      \n",
      "==================================================================================================\n",
      "Total params: 4,648,321\n",
      "Trainable params: 4,648,321\n",
      "Non-trainable params: 0\n",
      "__________________________________________________________________________________________________\n"
     ]
    }
   ],
   "source": [
    "enc_dec.summary()"
   ]
  },
  {
   "cell_type": "code",
   "execution_count": 4,
   "id": "40d76305",
   "metadata": {},
   "outputs": [
    {
     "name": "stdout",
     "output_type": "stream",
     "text": [
      "Num GPUs Available:  [PhysicalDevice(name='/physical_device:GPU:0', device_type='GPU')]\n"
     ]
    }
   ],
   "source": [
    "print(\"Num GPUs Available: \", tf.config.experimental.list_physical_devices('GPU'))"
   ]
  },
  {
   "cell_type": "code",
   "execution_count": 5,
   "id": "7fffa533",
   "metadata": {},
   "outputs": [],
   "source": [
    "enc_dec.load_weights('models/SR3_diff_shape_mse_loss_checkpoint.h5')"
   ]
  },
  {
   "cell_type": "code",
   "execution_count": 6,
   "id": "1f788244",
   "metadata": {},
   "outputs": [
    {
     "name": "stdout",
     "output_type": "stream",
     "text": [
      "/home/vr-lab/Asish/8th Sem Radar Project/cruw-devkit\n"
     ]
    }
   ],
   "source": [
    "%cd cruw-devkit"
   ]
  },
  {
   "cell_type": "code",
   "execution_count": 7,
   "id": "8c6e5332",
   "metadata": {},
   "outputs": [],
   "source": [
    "from cruw import CRUW\n",
    "import numpy as np\n",
    "import matplotlib.pyplot as plt\n",
    "from cruw.mapping import ra2idx, idx2ra\n",
    "import math\n",
    "import os"
   ]
  },
  {
   "cell_type": "code",
   "execution_count": 8,
   "id": "1bae0fb3",
   "metadata": {},
   "outputs": [
    {
     "name": "stdout",
     "output_type": "stream",
     "text": [
      "warning: loading calibration data failed\n"
     ]
    }
   ],
   "source": [
    "data_root='/mnt/disk1/CRUW/ROD2021'\n",
    "dataset = CRUW(data_root=data_root, sensor_config_name='sensor_config_rod2021')\n"
   ]
  },
  {
   "cell_type": "code",
   "execution_count": 9,
   "id": "78101bc9",
   "metadata": {},
   "outputs": [
    {
     "name": "stdout",
     "output_type": "stream",
     "text": [
      "['2019_04_09_BMS1000', '2019_04_09_BMS1001', '2019_04_09_BMS1002', '2019_04_09_CMS1002', '2019_04_09_PMS1000', '2019_04_09_PMS1001', '2019_04_09_PMS2000', '2019_04_09_PMS3000', '2019_04_30_MLMS000', '2019_04_30_MLMS001', '2019_04_30_MLMS002', '2019_04_30_PBMS002', '2019_04_30_PBMS003', '2019_04_30_PCMS001', '2019_04_30_PM2S003', '2019_04_30_PM2S004', '2019_05_09_BM1S008', '2019_05_09_CM1S004', '2019_05_09_MLMS003', '2019_05_09_PBMS004', '2019_05_09_PCMS002', '2019_05_23_PM1S012', '2019_05_23_PM1S013', '2019_05_23_PM1S014', '2019_05_23_PM1S015', '2019_05_23_PM2S011', '2019_05_29_BCMS000', '2019_05_29_BM1S016', '2019_05_29_BM1S017', '2019_05_29_MLMS006', '2019_05_29_PBMS007', '2019_05_29_PCMS005', '2019_05_29_PM2S015', '2019_05_29_PM3S000', '2019_09_29_ONRD001', '2019_09_29_ONRD002', '2019_09_29_ONRD005', '2019_09_29_ONRD006', '2019_09_29_ONRD011', '2019_09_29_ONRD013']\n"
     ]
    }
   ],
   "source": [
    "scene_list = os.listdir(\"/home/vr-lab/Asish/8th Sem Radar Project/Datasets/CRUW/TRAIN_RAD_H/\")\n",
    "scene_list.sort()\n",
    "print(scene_list)"
   ]
  },
  {
   "cell_type": "code",
   "execution_count": 10,
   "id": "84783380",
   "metadata": {},
   "outputs": [],
   "source": [
    "def normalize(v):\n",
    "    v_min = v.min(axis=(1, 2), keepdims=True)\n",
    "    v_max = v.max(axis=(1, 2), keepdims=True)\n",
    "    return (v - v_min)/(v_max - v_min)"
   ]
  },
  {
   "cell_type": "code",
   "execution_count": 13,
   "id": "ddb1f8c7",
   "metadata": {},
   "outputs": [
    {
     "name": "stdout",
     "output_type": "stream",
     "text": [
      "2019_04_09_BMS1000  over\n",
      "2019_04_09_BMS1001  over\n",
      "2019_04_09_BMS1002  over\n",
      "2019_04_09_CMS1002  over\n",
      "2019_04_09_PMS1000  over\n",
      "2019_04_09_PMS1001  over\n",
      "2019_04_09_PMS2000  over\n",
      "2019_04_09_PMS3000  over\n",
      "2019_04_30_MLMS000  over\n",
      "2019_04_30_MLMS001  over\n",
      "2019_04_30_MLMS002  over\n",
      "2019_04_30_PBMS002  over\n",
      "2019_04_30_PBMS003  over\n",
      "2019_04_30_PCMS001  over\n",
      "2019_04_30_PM2S003  over\n",
      "2019_04_30_PM2S004  over\n",
      "2019_05_09_BM1S008  over\n",
      "2019_05_09_CM1S004  over\n",
      "2019_05_09_MLMS003  over\n",
      "2019_05_09_PBMS004  over\n",
      "2019_05_09_PCMS002  over\n",
      "2019_05_23_PM1S012  over\n",
      "2019_05_23_PM1S013  over\n",
      "2019_05_23_PM1S014  over\n",
      "2019_05_23_PM1S015  over\n",
      "2019_05_23_PM2S011  over\n",
      "2019_05_29_BCMS000  over\n",
      "2019_05_29_BM1S016  over\n",
      "2019_05_29_BM1S017  over\n",
      "2019_05_29_MLMS006  over\n",
      "2019_05_29_PBMS007  over\n",
      "2019_05_29_PCMS005  over\n",
      "2019_05_29_PM2S015  over\n",
      "2019_05_29_PM3S000  over\n",
      "2019_09_29_ONRD001  over\n",
      "2019_09_29_ONRD002  over\n",
      "2019_09_29_ONRD005  over\n",
      "2019_09_29_ONRD006  over\n",
      "2019_09_29_ONRD011  over\n",
      "2019_09_29_ONRD013  over\n"
     ]
    }
   ],
   "source": [
    "path = '/home/vr-lab/Asish/8th Sem Radar Project/Datasets/CRUW_SR'\n",
    "if not os.path.exists(path):\n",
    "    os.mkdir(path)\n",
    "    \n",
    "for scene in scene_list:\n",
    "    scene_path = os.path.join('/home/vr-lab/Asish/8th Sem Radar Project/Datasets/CRUW_SR/',scene)\n",
    "    if not os.path.exists(scene_path):\n",
    "        os.mkdir(scene_path)\n",
    "\n",
    "    img_path = os.path.join('/home/vr-lab/Asish/8th Sem Radar Project/Datasets/CRUW/TRAIN_RAD_H',scene,'RADAR_RA_H')\n",
    "    images = os.listdir(img_path)\n",
    "    images.sort()\n",
    "#     print(images)\n",
    "    for image in images:\n",
    "#         words = line.split(\" \")\n",
    "#         seq_num = int(words[0])\n",
    "#         rng = float(words[1])\n",
    "#         azm = float(words[2])\n",
    "#         label = words[3][:-1]\n",
    "\n",
    "#         rid, aid = ra2idx(rng, azm, dataset.range_grid, dataset.angle_grid)\n",
    "\n",
    "        img = np.load(os.path.join(img_path,image))\n",
    "        fimg = np.sqrt(np.sum(np.square(img), axis=2,keepdims=True))\n",
    "        fimg = np.expand_dims(fimg, axis=0)\n",
    "        fimg = normalize(fimg)\n",
    "        fimg =1-fimg\n",
    "        \n",
    "        pred1 = enc_dec.predict(fimg)[0]\n",
    "        \n",
    "        path = os.path.join(scene_path, image)\n",
    "        np.save(path,pred1)\n",
    "    \n",
    "    print(scene,\" over\")"
   ]
  },
  {
   "cell_type": "code",
   "execution_count": 14,
   "id": "5f1ea369",
   "metadata": {},
   "outputs": [],
   "source": [
    "import numpy as np\n",
    "import matplotlib.pyplot as plt\n",
    "from PIL import Image\n",
    "import os"
   ]
  },
  {
   "cell_type": "code",
   "execution_count": 31,
   "id": "8191b13e",
   "metadata": {},
   "outputs": [
    {
     "data": {
      "text/plain": [
       "<matplotlib.image.AxesImage at 0x7fc0374aed60>"
      ]
     },
     "execution_count": 31,
     "metadata": {},
     "output_type": "execute_result"
    },
    {
     "data": {
      "image/png": "[encoded data removed]",
      "text/plain": [
       "<Figure size 432x288 with 1 Axes>"
      ]
     },
     "metadata": {
      "needs_background": "light"
     },
     "output_type": "display_data"
    }
   ],
   "source": [
    "path =\"/home/vr-lab/Asish/8th Sem Radar Project/Datasets/CRUW/TRAIN_RAD_H/2019_04_30_MLMS001/RADAR_RA_H/000500_0192.npy\"\n",
    "fimg = np.load(path)\n",
    "plt.imshow(np.sqrt(np.sum(np.square(fimg), axis=2,keepdims=True)))\n"
   ]
  },
  {
   "cell_type": "code",
   "execution_count": 29,
   "id": "6124dfe4",
   "metadata": {},
   "outputs": [
    {
     "data": {
      "text/plain": [
       "<matplotlib.image.AxesImage at 0x7fc037c19f40>"
      ]
     },
     "execution_count": 29,
     "metadata": {},
     "output_type": "execute_result"
    },
    {
     "data": {
      "image/png": "[encoded data removed]",
      "text/plain": [
       "<Figure size 432x288 with 1 Axes>"
      ]
     },
     "metadata": {
      "needs_background": "light"
     },
     "output_type": "display_data"
    }
   ],
   "source": [
    "a = np.load(\"/home/vr-lab/Asish/8th Sem Radar Project/Datasets/CRUW_SR/2019_04_30_MLMS001/000500_0192.npy\")\n",
    "plt.imshow(a)"
   ]
  }
 ],
 "metadata": {
  "kernelspec": {
   "display_name": "Python 3 (ipykernel)",
   "language": "python",
   "name": "python3"
  },
  "language_info": {
   "codemirror_mode": {
    "name": "ipython",
    "version": 3
   },
   "file_extension": ".py",
   "mimetype": "text/x-python",
   "name": "python",
   "nbconvert_exporter": "python",
   "pygments_lexer": "ipython3",
   "version": "3.10.4"
  }
 },
 "nbformat": 4,
 "nbformat_minor": 5
}
