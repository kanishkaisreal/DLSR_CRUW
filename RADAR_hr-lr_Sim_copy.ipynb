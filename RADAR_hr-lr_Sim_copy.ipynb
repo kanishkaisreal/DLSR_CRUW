{
 "cells": [
  {
   "cell_type": "code",
   "execution_count": 1,
   "id": "1271f373",
   "metadata": {
    "id": "1271f373"
   },
   "outputs": [
    {
     "name": "stderr",
     "output_type": "stream",
     "text": [
      "/home/vr-lab/anaconda3/envs/asish_env/lib/python3.9/site-packages/tqdm/auto.py:22: TqdmWarning: IProgress not found. Please update jupyter and ipywidgets. See https://ipywidgets.readthedocs.io/en/stable/user_install.html\n",
      "  from .autonotebook import tqdm as notebook_tqdm\n"
     ]
    }
   ],
   "source": [
    "import torch\n",
    "import matplotlib.pyplot as plt\n",
    "import cv2\n",
    "import numpy as np"
   ]
  },
  {
   "cell_type": "markdown",
   "id": "73d8d5db",
   "metadata": {},
   "source": [
    "### Convolution function"
   ]
  },
  {
   "cell_type": "code",
   "execution_count": 2,
   "id": "5e47a955",
   "metadata": {
    "id": "5e47a955"
   },
   "outputs": [],
   "source": [
    "def convolve2D(image, kernel, xpadding=0, ypadding=0, strides=1):\n",
    "    # Cross Correlation\n",
    "    kernel = np.flipud(np.fliplr(kernel))\n",
    "\n",
    "    # Gather Shapes of Kernel + Image + Padding\n",
    "    xKernShape = kernel.shape[0]\n",
    "    yKernShape = kernel.shape[1]\n",
    "    xImgShape = image.shape[0]\n",
    "    yImgShape = image.shape[1]\n",
    "\n",
    "    # Shape of Output Convolution\n",
    "    xOutput = int(((xImgShape - xKernShape + 2 * xpadding) / strides) + 1)\n",
    "    yOutput = int(((yImgShape - yKernShape + 2 * ypadding) / strides) + 1)\n",
    "    output = np.zeros((xOutput, yOutput))\n",
    "\n",
    "    # Apply Padding to All Sides\n",
    "    if (xpadding != 0) or (ypadding != 0):\n",
    "        imagePadded = np.zeros((image.shape[0] + xpadding*2, image.shape[1] + ypadding*2))\n",
    "        if xpadding == 0:\n",
    "            imagePadded[:, int(ypadding):int(-1 * ypadding)] = image\n",
    "        elif ypadding == 0:\n",
    "            imagePadded[int(xpadding):int(-1 * xpadding), :] = image\n",
    "        else:\n",
    "            imagePadded[int(xpadding):int(-1 * xpadding), int(ypadding):int(-1 * ypadding)] = image\n",
    "    else:\n",
    "        imagePadded = image\n",
    "\n",
    "    # Iterate through image\n",
    "    for y in range(image.shape[1]):\n",
    "        # Exit Convolution\n",
    "        if y > imagePadded.shape[1] - yKernShape:\n",
    "            break\n",
    "        # Only Convolve if y has gone down by the specified Strides\n",
    "        if y % strides == 0:\n",
    "            for x in range(image.shape[0]):\n",
    "                # Go to next row once kernel is out of bounds\n",
    "                if x > imagePadded.shape[0] - xKernShape:\n",
    "                    break\n",
    "                try:\n",
    "                    # Only Convolve if x has moved by the specified Strides\n",
    "                    if x % strides == 0:\n",
    "                        output[x, y] = (kernel * imagePadded[x: x + xKernShape, y: y + yKernShape]).sum()\n",
    "                except:\n",
    "                    break\n",
    "\n",
    "    return output"
   ]
  },
  {
   "cell_type": "markdown",
   "id": "803ac391",
   "metadata": {},
   "source": [
    "### Add noise"
   ]
  },
  {
   "cell_type": "code",
   "execution_count": 4,
   "id": "8f1359cf",
   "metadata": {},
   "outputs": [],
   "source": [
    "def noisy(noise_typ,image):\n",
    "    if noise_typ == \"gauss\":\n",
    "      row,col= image.shape\n",
    "      mean = 120\n",
    "      var = 100\n",
    "      sigma = var**0.5\n",
    "      gauss = np.random.normal(mean,sigma,(row,col))\n",
    "      gauss = gauss.reshape(row,col)\n",
    "      noisy = image + gauss\n",
    "      return noisy\n",
    "    elif noise_typ == \"snp\":\n",
    "      row,col = image.shape\n",
    "      s_vs_p = 0.5\n",
    "      amount = 0.004\n",
    "      out = np.copy(image)\n",
    "      # Salt mode\n",
    "      num_salt = np.ceil(amount * image.size * s_vs_p)\n",
    "      coords = [np.random.randint(0, i - 1, int(num_salt))\n",
    "              for i in image.shape]\n",
    "      out[coords] = 1\n",
    "\n",
    "      # Pepper mode\n",
    "      num_pepper = np.ceil(amount* image.size * (1. - s_vs_p))\n",
    "      coords = [np.random.randint(0, i - 1, int(num_pepper))\n",
    "              for i in image.shape]\n",
    "      out[coords] = 0\n",
    "      return out\n",
    "    elif noise_typ == \"poisson\":\n",
    "      vals = len(np.unique(image))\n",
    "      vals = 2 ** np.ceil(np.log2(vals))\n",
    "      noisy = np.random.poisson(image * vals) / float(vals)\n",
    "      return noisy\n",
    "    elif noise_typ ==\"speckle\":\n",
    "      row,col = image.shape\n",
    "      gauss = np.random.randn(row,col)\n",
    "      gauss = gauss.reshape(row,col)        \n",
    "      noisy = image + image * gauss\n",
    "      return noisy"
   ]
  },
  {
   "cell_type": "markdown",
   "id": "zQxG2A0UXBoa",
   "metadata": {
    "id": "zQxG2A0UXBoa"
   },
   "source": [
    "### Generation of image"
   ]
  },
  {
   "cell_type": "code",
   "execution_count": 5,
   "id": "hdp992XZW0c5",
   "metadata": {
    "id": "hdp992XZW0c5"
   },
   "outputs": [],
   "source": [
    "def gt_gen(height = 512, width = 512, nobj = 4, box_shp = 10):\n",
    "    img_arr = np.zeros((height, width))\n",
    "\n",
    "    # white box\n",
    "    box = np.array([255]*box_shp*box_shp).reshape(box_shp,box_shp)\n",
    "\n",
    "    for i in range(nobj):\n",
    "      x = np.random.randint(0,height-box_shp)\n",
    "      y = np.random.randint(0,width-box_shp)\n",
    "      img_arr[x:x+box_shp, y:y+box_shp] = box\n",
    "\n",
    "    img_arr *= 255/img_arr.max()\n",
    "    \n",
    "    return img_arr"
   ]
  },
  {
   "cell_type": "markdown",
   "id": "u1Rn-p5LadAd",
   "metadata": {
    "id": "u1Rn-p5LadAd"
   },
   "source": [
    "### Generating real RADAR image"
   ]
  },
  {
   "cell_type": "code",
   "execution_count": 6,
   "id": "XxQmw6GIacgt",
   "metadata": {
    "colab": {
     "base_uri": "https://localhost:8080/",
     "height": 265
    },
    "id": "XxQmw6GIacgt",
    "outputId": "779df51b-5296-424c-a10f-0a97f1bd508a",
    "scrolled": false
   },
   "outputs": [],
   "source": [
    "def lr_gen(img_arr, beam_wid_deg = 3.5, sinc_ip_lim=2):\n",
    "    main_lob_px = int(np.ceil(beam_wid_deg * width / 5))\n",
    "\n",
    "    # The mail lob width of the sinc (input = -1 to 1) will be contained in main_lob_px points\n",
    "    # Therefore, we choose an interval -2 to 2, with 10*main_lob_px points\n",
    "\n",
    "    sinc = np.sinc(np.linspace(-sinc_ip_lim, sinc_ip_lim, sinc_ip_lim * main_lob_px+1))\n",
    "    # sinc = np.sinc(np.linspace(-1, 1, 200))\n",
    "\n",
    "    sinc_sq = np.square(sinc)\n",
    "    sinc_sq = np.expand_dims(sinc_sq, 0)\n",
    "    # sinc_sq = sinc_sq/np.sum(sinc_sq)\n",
    "    # print(sinc_sq)\n",
    "    # print()\n",
    "\n",
    "    filtered_img = convolve2D(img_arr, sinc_sq, ypadding=(sinc_ip_lim * main_lob_px)//2)\n",
    "    filtered_img = noisy(\"gauss\", filtered_img)\n",
    "    # print(filtered_img.max())\n",
    "    filtered_img *= 255/filtered_img.max()\n",
    "    \n",
    "    return filtered_img"
   ]
  },
  {
   "cell_type": "markdown",
   "id": "e4416a04",
   "metadata": {},
   "source": [
    "### Implementation of all functions"
   ]
  },
  {
   "cell_type": "code",
   "execution_count": 7,
   "id": "2ca7511b",
   "metadata": {},
   "outputs": [
    {
     "name": "stdout",
     "output_type": "stream",
     "text": [
      "/home/vr-lab/Asish/8th Sem Radar Project/LR-HR_Simulation/Gaussian_noisy\n"
     ]
    }
   ],
   "source": [
    "%cd LR-HR_Simulation/Gaussian_noisy"
   ]
  },
  {
   "cell_type": "code",
   "execution_count": 8,
   "id": "b56368fa",
   "metadata": {},
   "outputs": [
    {
     "data": {
      "text/plain": [
       "'/home/vr-lab/Asish/8th Sem Radar Project/LR-HR_Simulation/Gaussian_noisy'"
      ]
     },
     "execution_count": 8,
     "metadata": {},
     "output_type": "execute_result"
    }
   ],
   "source": [
    "%pwd"
   ]
  },
  {
   "cell_type": "code",
   "execution_count": 9,
   "id": "eCv5PNiglWE4",
   "metadata": {
    "colab": {
     "base_uri": "https://localhost:8080/",
     "height": 265
    },
    "id": "eCv5PNiglWE4",
    "outputId": "a56b0dcb-2ea2-4b5c-cb8e-48de6df2fdaa"
   },
   "outputs": [
    {
     "name": "stdout",
     "output_type": "stream",
     "text": [
      "0  pairs done\n",
      "100  pairs done\n",
      "200  pairs done\n",
      "300  pairs done\n",
      "400  pairs done\n",
      "500  pairs done\n",
      "600  pairs done\n",
      "700  pairs done\n",
      "800  pairs done\n",
      "900  pairs done\n",
      "1000  pairs done\n",
      "1100  pairs done\n",
      "1200  pairs done\n",
      "1300  pairs done\n",
      "1400  pairs done\n",
      "1500  pairs done\n",
      "1600  pairs done\n",
      "1700  pairs done\n",
      "1800  pairs done\n",
      "1900  pairs done\n",
      "2000  pairs done\n",
      "2100  pairs done\n",
      "2200  pairs done\n",
      "2300  pairs done\n",
      "2400  pairs done\n",
      "2500  pairs done\n",
      "2600  pairs done\n",
      "2700  pairs done\n",
      "2800  pairs done\n",
      "2900  pairs done\n",
      "0  pairs done\n",
      "100  pairs done\n",
      "200  pairs done\n",
      "300  pairs done\n",
      "400  pairs done\n",
      "500  pairs done\n",
      "600  pairs done\n",
      "700  pairs done\n",
      "800  pairs done\n",
      "900  pairs done\n",
      "1000  pairs done\n",
      "1100  pairs done\n",
      "1200  pairs done\n",
      "1300  pairs done\n",
      "1400  pairs done\n",
      "1500  pairs done\n",
      "1600  pairs done\n",
      "1700  pairs done\n",
      "1800  pairs done\n",
      "1900  pairs done\n",
      "2000  pairs done\n",
      "2100  pairs done\n",
      "2200  pairs done\n",
      "2300  pairs done\n",
      "2400  pairs done\n",
      "2500  pairs done\n",
      "2600  pairs done\n",
      "2700  pairs done\n",
      "2800  pairs done\n",
      "2900  pairs done\n"
     ]
    }
   ],
   "source": [
    "num = 3000\n",
    "height, width = 512,512\n",
    "nobj = {'dense':10, 'sparse':4}\n",
    "box_shp = 10\n",
    "beam_wid_deg = 3.5      # This is the sinc function's main lobe width as well\n",
    "sinc_ip_lim = 2\n",
    "\n",
    "for sitn in nobj:\n",
    "    for i in range(num):\n",
    "#         print(i)\n",
    "        img_arr = gt_gen(height, width, nobj[sitn], box_shp)\n",
    "        name_lr = sitn + \"/HR/\" + sitn + \"_hr_\" + str(i) + \".jpg\"\n",
    "        cv2.imwrite(name_lr, img_arr)\n",
    "        filtered_img = lr_gen(img_arr, beam_wid_deg, sinc_ip_lim)\n",
    "        name_hr = sitn + \"/LR/\" + sitn + \"_lr_\" + str(i) + \".jpg\"\n",
    "        cv2.imwrite(name_hr, filtered_img)\n",
    "        if i%100 == 0:\n",
    "            print(i, \" pairs done\")\n"
   ]
  },
  {
   "cell_type": "code",
   "execution_count": 10,
   "id": "dRuYIcg1aVZG",
   "metadata": {
    "colab": {
     "base_uri": "https://localhost:8080/",
     "height": 428
    },
    "id": "dRuYIcg1aVZG",
    "outputId": "f15fcfdb-0ce3-4c41-fd0c-155b65537f1c"
   },
   "outputs": [
    {
     "data": {
      "text/plain": [
       "(-0.5, 511.5, 511.5, -0.5)"
      ]
     },
     "execution_count": 10,
     "metadata": {},
     "output_type": "execute_result"
    },
    {
     "data": {
      "image/png": "[encoded data removed]",
      "text/plain": [
       "<Figure size 1080x1080 with 2 Axes>"
      ]
     },
     "metadata": {
      "needs_background": "light"
     },
     "output_type": "display_data"
    }
   ],
   "source": [
    "f, axarr = plt.subplots(1,2, figsize=(15,15))\n",
    "axarr[0].imshow(img_arr)\n",
    "axarr[0].axis(\"off\")\n",
    "axarr[1].imshow(filtered_img)\n",
    "axarr[1].axis(\"off\")"
   ]
  },
  {
   "cell_type": "code",
   "execution_count": null,
   "id": "-SUswecCYd4m",
   "metadata": {
    "colab": {
     "base_uri": "https://localhost:8080/",
     "height": 286
    },
    "id": "-SUswecCYd4m",
    "outputId": "f1b7346c-deeb-4267-bed5-2de1f7b203ef"
   },
   "outputs": [],
   "source": [
    "# recov_img = convolve2D(filtered_img, sinc_sq, ypadding=(sinc_ip_lim * main_lob_px)//2)\n",
    "# recov_img *= 255/recov_img.max()\n",
    "recov_img = filtered_img.copy()\n",
    "# plt.axis(\"off\")\n",
    "recov_img[recov_img<250] = 0\n",
    "# print(np.amax(recov_img))\n",
    "plt.imshow(recov_img)\n",
    "# recov_img[recov_img1 < 200] = 0\n"
   ]
  },
  {
   "cell_type": "code",
   "execution_count": null,
   "id": "2400e52e",
   "metadata": {},
   "outputs": [],
   "source": [
    "gauss = np.random.normal(0,1000,(256,256))\n",
    "gauss = gauss.reshape(256,256)\n",
    "plt.imshow(gauss)"
   ]
  }
 ],
 "metadata": {
  "celltoolbar": "Raw Cell Format",
  "colab": {
   "name": "SR through thresholding.ipynb",
   "provenance": []
  },
  "kernelspec": {
   "display_name": "Python 3 (ipykernel)",
   "language": "python",
   "name": "python3"
  },
  "language_info": {
   "codemirror_mode": {
    "name": "ipython",
    "version": 3
   },
   "file_extension": ".py",
   "mimetype": "text/x-python",
   "name": "python",
   "nbconvert_exporter": "python",
   "pygments_lexer": "ipython3",
   "version": "3.9.7"
  }
 },
 "nbformat": 4,
 "nbformat_minor": 5
}
