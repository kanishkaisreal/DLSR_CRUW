{
 "cells": [
  {
   "cell_type": "code",
   "execution_count": 34,
   "id": "0fa9bf60",
   "metadata": {},
   "outputs": [],
   "source": [
    "import numpy as np\n",
    "import glob\n",
    "import tensorflow as tf\n",
    "from tensorflow.keras import Model, Input, regularizers, initializers\n",
    "from tensorflow.keras.layers import Dense, Conv2D, MaxPool2D, UpSampling2D, Add, Dropout\n",
    "from tensorflow.keras.callbacks import EarlyStopping, ModelCheckpoint\n",
    "from tensorflow.keras.preprocessing import image\n",
    "import matplotlib.pyplot as plt\n",
    "from sklearn.model_selection import train_test_split\n",
    "import pickle\n",
    "from sklearn.utils import shuffle\n",
    "import PIL.ImageOps\n",
    "\n",
    "# tf.debugging.set_log_device_placement(False)\n"
   ]
  },
  {
   "cell_type": "code",
   "execution_count": 35,
   "id": "353c8eb7",
   "metadata": {},
   "outputs": [
    {
     "name": "stdout",
     "output_type": "stream",
     "text": [
      "3000\n"
     ]
    }
   ],
   "source": [
    "lr_dense_images = glob.glob('/home/vr-lab/Asish/8th Sem Radar Project/LR-HR_Simulation/dense/HR/*.jpg') #returns path of images\n",
    "lr_dense_images.sort()\n",
    "print(len(lr_dense_images))\n",
    "lr_sparse_images = glob.glob('/home/vr-lab/Asish/8th Sem Radar Project/LR-HR_Simulation/sparse/HR/*.jpg') #returns path of images\n",
    "lr_sparse_images.sort()"
   ]
  },
  {
   "cell_type": "code",
   "execution_count": 36,
   "id": "f73e6e0b",
   "metadata": {},
   "outputs": [
    {
     "name": "stdout",
     "output_type": "stream",
     "text": [
      "3000\n"
     ]
    }
   ],
   "source": [
    "hr_dense_images = glob.glob('/home/vr-lab/Asish/8th Sem Radar Project/LR-HR_Simulation/dense/LR/*.jpg') #returns path of images\n",
    "hr_dense_images.sort()\n",
    "print(len(hr_dense_images))\n",
    "hr_sparse_images = glob.glob('/home/vr-lab/Asish/8th Sem Radar Project/LR-HR_Simulation/sparse/LR/*.jpg') #returns path of images\n",
    "hr_sparse_images.sort()"
   ]
  },
  {
   "cell_type": "code",
   "execution_count": 37,
   "id": "870ecb24",
   "metadata": {},
   "outputs": [
    {
     "name": "stderr",
     "output_type": "stream",
     "text": [
      "  0%|          | 0/3000 [9:59:46<?, ?it/s]\n",
      " 40%|████      | 1212/3000 [00:04<00:03, 516.70it/s]"
     ]
    }
   ],
   "source": [
    "from tqdm import tqdm\n",
    "from multiprocessing import Pool\n",
    "import random\n",
    "progress = tqdm(total= len(lr_dense_images), position=0)\n",
    "img_size=(128,128,1)\n",
    "def read(path):\n",
    "  img = image.load_img(path, color_mode='grayscale', target_size=img_size)\n",
    "#   a = random.choice([0, 1])\n",
    "#   if a == 0:\n",
    "  img = PIL.ImageOps.invert(img)\n",
    "  img = image.img_to_array(img)\n",
    "  img = img/255.\n",
    "  progress.update(1)\n",
    "  return img\n",
    "\n",
    "def read_wout_inv(path):\n",
    "  img = image.load_img(path, color_mode='grayscale', target_size=img_size)\n",
    "#   a = random.choice([0, 1])\n",
    "#   if a == 0:\n",
    "#   img = PIL.ImageOps.invert(img)\n",
    "  img = image.img_to_array(img)\n",
    "  img = img/255.\n",
    "  progress.update(1)\n",
    "  return img\n",
    "  \n",
    "p = Pool(10)"
   ]
  },
  {
   "cell_type": "code",
   "execution_count": 38,
   "id": "65836b7c",
   "metadata": {},
   "outputs": [],
   "source": [
    "lr_train_img_array = p.map(read, lr_dense_images[:2200]) + p.map(read, lr_sparse_images[:2200])        # Put both sparse and dense in one variable\n",
    "lr_val_img_array = p.map(read, lr_dense_images[2200:]) + p.map(read, lr_sparse_images[2200:])        # Put both sparse and dense in one variable"
   ]
  },
  {
   "cell_type": "code",
   "execution_count": 39,
   "id": "cb422035",
   "metadata": {},
   "outputs": [],
   "source": [
    "hr_train_img_array = p.map(read, hr_dense_images[:2200]) + p.map(read, hr_sparse_images[:2200])\n",
    "hr_val_img_array = p.map(read, hr_dense_images[2200:]) + p.map(read, hr_sparse_images[2200:])"
   ]
  },
  {
   "cell_type": "code",
   "execution_count": 40,
   "id": "7a3e918f",
   "metadata": {},
   "outputs": [
    {
     "name": "stdout",
     "output_type": "stream",
     "text": [
      "(4400, 128, 128, 1)\n",
      "(1600, 128, 128, 1)\n",
      "(4400, 128, 128, 1)\n",
      "(1600, 128, 128, 1)\n"
     ]
    }
   ],
   "source": [
    "print(np.array(lr_train_img_array).shape)\n",
    "print(np.array(lr_val_img_array).shape)\n",
    "print(np.array(hr_train_img_array).shape)\n",
    "print(np.array(hr_val_img_array).shape)"
   ]
  },
  {
   "cell_type": "code",
   "execution_count": 41,
   "id": "39d5d9c5",
   "metadata": {},
   "outputs": [],
   "source": [
    "# Shuffle the arrays in unison for better training\n",
    "lr_train, hr_train = shuffle(lr_train_img_array, hr_train_img_array, random_state=0)\n",
    "lr_val, hr_val = shuffle(lr_val_img_array, hr_val_img_array, random_state=0)"
   ]
  },
  {
   "cell_type": "code",
   "execution_count": 42,
   "id": "117b0ed2",
   "metadata": {},
   "outputs": [],
   "source": [
    "lr_train = np.array(lr_train)\n",
    "hr_train = np.array(hr_train)\n",
    "lr_val = np.array(lr_val)\n",
    "hr_val = np.array(hr_val)\n",
    "\n",
    "# with tf.device('/GPU:0'):\n",
    "#     lr_train = tf.convert_to_tensor(lr_train)\n",
    "#     hr_train = tf.convert_to_tensor(hr_train)\n",
    "#     lr_val = tf.convert_to_tensor(lr_val)\n",
    "#     hr_val = tf.convert_to_tensor(hr_val)"
   ]
  },
  {
   "cell_type": "code",
   "execution_count": 43,
   "id": "a6d33797",
   "metadata": {},
   "outputs": [
    {
     "data": {
      "text/plain": [
       "<matplotlib.image.AxesImage at 0x7f347a30a5b0>"
      ]
     },
     "execution_count": 43,
     "metadata": {},
     "output_type": "execute_result"
    },
    {
     "data": {
      "image/png": "[encoded data removed]",
      "text/plain": [
       "<Figure size 432x288 with 1 Axes>"
      ]
     },
     "metadata": {
      "needs_background": "light"
     },
     "output_type": "display_data"
    }
   ],
   "source": [
    "i=15\n",
    "plt.imshow(hr_train[i])"
   ]
  },
  {
   "cell_type": "code",
   "execution_count": 44,
   "id": "a2c8aab0",
   "metadata": {
    "scrolled": false
   },
   "outputs": [
    {
     "data": {
      "text/plain": [
       "<matplotlib.image.AxesImage at 0x7f347c4a6670>"
      ]
     },
     "execution_count": 44,
     "metadata": {},
     "output_type": "execute_result"
    },
    {
     "data": {
      "image/png": "[encoded data removed]",
      "text/plain": [
       "<Figure size 432x288 with 1 Axes>"
      ]
     },
     "metadata": {
      "needs_background": "light"
     },
     "output_type": "display_data"
    }
   ],
   "source": [
    "plt.imshow(lr_train[i])"
   ]
  },
  {
   "cell_type": "code",
   "execution_count": 56,
   "id": "aa9def47",
   "metadata": {},
   "outputs": [],
   "source": [
    "# with tf.device('/GPU:0'):\n",
    "Input_img = Input(shape=img_size)  \n",
    "\n",
    "#encoding architecture\n",
    "# x1 = Conv2D(64, (3, 3), activation='relu', padding='same', \n",
    "#             kernel_initializer=initializers.RandomNormal(stddev=5), bias_initializer='zeros')(Input_img)\n",
    "x1 = Conv2D(64, (3, 3), activation='relu', padding='same')(Input_img)\n",
    "x2 = Conv2D(64, (3, 3), activation='relu', padding='same')(x1)\n",
    "x3 = MaxPool2D(padding='same')(x2)\n",
    "x4 = Conv2D(128, (3, 3), activation='relu', padding='same')(x3)\n",
    "x5 = Conv2D(128, (3, 3), activation='relu', padding='same')(x4)\n",
    "x6 = MaxPool2D(padding='same')(x5)\n",
    "x7 = Conv2D(256, (3, 3), activation='relu', padding='same')(x6)\n",
    "x8 = Conv2D(256, (3, 3), activation='relu', padding='same')(x7)\n",
    "x9 = MaxPool2D(padding='same')(x8)\n",
    "encoded = Conv2D(512, (3, 3), activation='relu', padding='same')(x9)\n",
    "#encoded = Conv2D(64, (3, 3), activation='relu', padding='same')(x2)\n",
    "\n",
    "# decoding architecture\n",
    "x10 = UpSampling2D()(encoded)\n",
    "x11 = Conv2D(256, (3, 3), activation='relu', padding='same')(x10)\n",
    "x12 = Conv2D(256, (3, 3), activation='relu', padding='same')(x11)\n",
    "x13 = Add()([x8, x12])\n",
    "x14 = UpSampling2D()(x13)\n",
    "x15 = Conv2D(128, (3, 3), activation='relu', padding='same')(x14)\n",
    "x16 = Conv2D(128, (3, 3), activation='relu', padding='same')(x15)\n",
    "x17 = Add()([x5, x16])\n",
    "x18 = UpSampling2D()(x17)\n",
    "x19 = Conv2D(64, (3, 3), activation='relu', padding='same')(x18)\n",
    "x20 = Conv2D(64, (3, 3), activation='relu', padding='same')(x19)\n",
    "x21 = Add()([x2, x20])\n",
    "# x3 = UpSampling2D((2, 2))(x3)\n",
    "# x2 = Conv2D(128, (3, 3), activation='relu', padding='same')(x3)\n",
    "# x1 = Conv2D(256, (3, 3), activation='relu', padding='same')(x2)\n",
    "decoded = Conv2D(1, (3, 3), padding='same',activation='relu')(x21)\n",
    "\n",
    "enc_dec = Model(Input_img, decoded)\n",
    "# loss_rec = tf.reduce_mean(tf.image.ssim(truth, reconstructed, 2.0))\n",
    "enc_dec.compile(optimizer='adam', loss='mse', metrics=['accuracy'])"
   ]
  },
  {
   "cell_type": "code",
   "execution_count": 57,
   "id": "1e855918",
   "metadata": {
    "scrolled": true
   },
   "outputs": [
    {
     "name": "stdout",
     "output_type": "stream",
     "text": [
      "Model: \"model_3\"\n",
      "__________________________________________________________________________________________________\n",
      "Layer (type)                    Output Shape         Param #     Connected to                     \n",
      "==================================================================================================\n",
      "input_4 (InputLayer)            [(None, 128, 128, 1) 0                                            \n",
      "__________________________________________________________________________________________________\n",
      "conv2d_42 (Conv2D)              (None, 128, 128, 64) 640         input_4[0][0]                    \n",
      "__________________________________________________________________________________________________\n",
      "conv2d_43 (Conv2D)              (None, 128, 128, 64) 36928       conv2d_42[0][0]                  \n",
      "__________________________________________________________________________________________________\n",
      "max_pooling2d_9 (MaxPooling2D)  (None, 64, 64, 64)   0           conv2d_43[0][0]                  \n",
      "__________________________________________________________________________________________________\n",
      "conv2d_44 (Conv2D)              (None, 64, 64, 128)  73856       max_pooling2d_9[0][0]            \n",
      "__________________________________________________________________________________________________\n",
      "conv2d_45 (Conv2D)              (None, 64, 64, 128)  147584      conv2d_44[0][0]                  \n",
      "__________________________________________________________________________________________________\n",
      "max_pooling2d_10 (MaxPooling2D) (None, 32, 32, 128)  0           conv2d_45[0][0]                  \n",
      "__________________________________________________________________________________________________\n",
      "conv2d_46 (Conv2D)              (None, 32, 32, 256)  295168      max_pooling2d_10[0][0]           \n",
      "__________________________________________________________________________________________________\n",
      "conv2d_47 (Conv2D)              (None, 32, 32, 256)  590080      conv2d_46[0][0]                  \n",
      "__________________________________________________________________________________________________\n",
      "max_pooling2d_11 (MaxPooling2D) (None, 16, 16, 256)  0           conv2d_47[0][0]                  \n",
      "__________________________________________________________________________________________________\n",
      "conv2d_48 (Conv2D)              (None, 16, 16, 512)  1180160     max_pooling2d_11[0][0]           \n",
      "__________________________________________________________________________________________________\n",
      "up_sampling2d_9 (UpSampling2D)  (None, 32, 32, 512)  0           conv2d_48[0][0]                  \n",
      "__________________________________________________________________________________________________\n",
      "conv2d_49 (Conv2D)              (None, 32, 32, 256)  1179904     up_sampling2d_9[0][0]            \n",
      "__________________________________________________________________________________________________\n",
      "conv2d_50 (Conv2D)              (None, 32, 32, 256)  590080      conv2d_49[0][0]                  \n",
      "__________________________________________________________________________________________________\n",
      "add_9 (Add)                     (None, 32, 32, 256)  0           conv2d_47[0][0]                  \n",
      "                                                                 conv2d_50[0][0]                  \n",
      "__________________________________________________________________________________________________\n",
      "up_sampling2d_10 (UpSampling2D) (None, 64, 64, 256)  0           add_9[0][0]                      \n",
      "__________________________________________________________________________________________________\n",
      "conv2d_51 (Conv2D)              (None, 64, 64, 128)  295040      up_sampling2d_10[0][0]           \n",
      "__________________________________________________________________________________________________\n",
      "conv2d_52 (Conv2D)              (None, 64, 64, 128)  147584      conv2d_51[0][0]                  \n",
      "__________________________________________________________________________________________________\n",
      "add_10 (Add)                    (None, 64, 64, 128)  0           conv2d_45[0][0]                  \n",
      "                                                                 conv2d_52[0][0]                  \n",
      "__________________________________________________________________________________________________\n",
      "up_sampling2d_11 (UpSampling2D) (None, 128, 128, 128 0           add_10[0][0]                     \n",
      "__________________________________________________________________________________________________\n",
      "conv2d_53 (Conv2D)              (None, 128, 128, 64) 73792       up_sampling2d_11[0][0]           \n",
      "__________________________________________________________________________________________________\n",
      "conv2d_54 (Conv2D)              (None, 128, 128, 64) 36928       conv2d_53[0][0]                  \n",
      "__________________________________________________________________________________________________\n",
      "add_11 (Add)                    (None, 128, 128, 64) 0           conv2d_43[0][0]                  \n",
      "                                                                 conv2d_54[0][0]                  \n",
      "__________________________________________________________________________________________________\n",
      "conv2d_55 (Conv2D)              (None, 128, 128, 1)  577         add_11[0][0]                     \n",
      "==================================================================================================\n",
      "Total params: 4,648,321\n",
      "Trainable params: 4,648,321\n",
      "Non-trainable params: 0\n",
      "__________________________________________________________________________________________________\n"
     ]
    }
   ],
   "source": [
    "enc_dec.summary()"
   ]
  },
  {
   "cell_type": "code",
   "execution_count": 48,
   "id": "b2415005",
   "metadata": {
    "scrolled": false
   },
   "outputs": [
    {
     "name": "stdout",
     "output_type": "stream",
     "text": [
      "Num GPUs Available:  [PhysicalDevice(name='/physical_device:GPU:0', device_type='GPU')]\n"
     ]
    }
   ],
   "source": [
    "print(\"Num GPUs Available: \", tf.config.experimental.list_physical_devices('GPU'))"
   ]
  },
  {
   "cell_type": "code",
   "execution_count": 49,
   "id": "bd356634",
   "metadata": {},
   "outputs": [],
   "source": [
    "early_stopper = EarlyStopping(monitor='val_loss', min_delta=0.001, patience=50, verbose=1, mode='min')\n",
    "model_checkpoint =  ModelCheckpoint('models/SR3_diff_shape_mse_loss_checkpoint.h5', save_best_only = True)"
   ]
  },
  {
   "cell_type": "code",
   "execution_count": 50,
   "id": "6e1c8c89",
   "metadata": {
    "scrolled": true
   },
   "outputs": [
    {
     "name": "stdout",
     "output_type": "stream",
     "text": [
      "Epoch 1/75\n",
      "138/138 [==============================] - 23s 162ms/step - loss: 3.3282 - accuracy: 0.5965 - val_loss: 0.0025 - val_accuracy: 0.9957\n",
      "Epoch 2/75\n",
      "138/138 [==============================] - 22s 160ms/step - loss: 0.0025 - accuracy: 0.9957 - val_loss: 0.0023 - val_accuracy: 0.9957\n",
      "Epoch 3/75\n",
      "138/138 [==============================] - 22s 161ms/step - loss: 0.0022 - accuracy: 0.9958 - val_loss: 0.0019 - val_accuracy: 0.9962\n",
      "Epoch 4/75\n",
      "138/138 [==============================] - 22s 161ms/step - loss: 0.0018 - accuracy: 0.9962 - val_loss: 0.0014 - val_accuracy: 0.9967\n",
      "Epoch 5/75\n",
      "138/138 [==============================] - 22s 161ms/step - loss: 0.0014 - accuracy: 0.9967 - val_loss: 0.0013 - val_accuracy: 0.9967\n",
      "Epoch 6/75\n",
      "138/138 [==============================] - 22s 161ms/step - loss: 0.0013 - accuracy: 0.9967 - val_loss: 0.0014 - val_accuracy: 0.9966\n",
      "Epoch 7/75\n",
      "138/138 [==============================] - 22s 161ms/step - loss: 0.0013 - accuracy: 0.9967 - val_loss: 9.0562e-04 - val_accuracy: 0.9969\n",
      "Epoch 8/75\n",
      "138/138 [==============================] - 22s 162ms/step - loss: 9.1259e-04 - accuracy: 0.9970 - val_loss: 7.7345e-04 - val_accuracy: 0.9971\n",
      "Epoch 9/75\n",
      "138/138 [==============================] - 22s 161ms/step - loss: 7.4795e-04 - accuracy: 0.9972 - val_loss: 6.7502e-04 - val_accuracy: 0.9972\n",
      "Epoch 10/75\n",
      "138/138 [==============================] - 22s 162ms/step - loss: 6.7417e-04 - accuracy: 0.9972 - val_loss: 7.0816e-04 - val_accuracy: 0.9971\n",
      "Epoch 11/75\n",
      "138/138 [==============================] - 22s 162ms/step - loss: 7.9907e-04 - accuracy: 0.9972 - val_loss: 7.1413e-04 - val_accuracy: 0.9971\n",
      "Epoch 12/75\n",
      "138/138 [==============================] - 22s 161ms/step - loss: 6.1764e-04 - accuracy: 0.9973 - val_loss: 8.0843e-04 - val_accuracy: 0.9970\n",
      "Epoch 13/75\n",
      "138/138 [==============================] - 22s 162ms/step - loss: 6.4761e-04 - accuracy: 0.9972 - val_loss: 6.5118e-04 - val_accuracy: 0.9974\n",
      "Epoch 14/75\n",
      "138/138 [==============================] - 23s 163ms/step - loss: 5.7390e-04 - accuracy: 0.9973 - val_loss: 5.1619e-04 - val_accuracy: 0.9974\n",
      "Epoch 15/75\n",
      "138/138 [==============================] - 23s 166ms/step - loss: 5.3211e-04 - accuracy: 0.9974 - val_loss: 6.2367e-04 - val_accuracy: 0.9972\n",
      "Epoch 16/75\n",
      "138/138 [==============================] - 23s 163ms/step - loss: 5.3133e-04 - accuracy: 0.9974 - val_loss: 5.0210e-04 - val_accuracy: 0.9974\n",
      "Epoch 17/75\n",
      "138/138 [==============================] - 23s 165ms/step - loss: 0.0015 - accuracy: 0.9973 - val_loss: 0.0017 - val_accuracy: 0.9967\n",
      "Epoch 18/75\n",
      "138/138 [==============================] - 23s 168ms/step - loss: 0.0016 - accuracy: 0.9967 - val_loss: 0.0011 - val_accuracy: 0.9967\n",
      "Epoch 19/75\n",
      "138/138 [==============================] - 22s 161ms/step - loss: 9.7737e-04 - accuracy: 0.9969 - val_loss: 6.5741e-04 - val_accuracy: 0.9973\n",
      "Epoch 20/75\n",
      "138/138 [==============================] - 22s 163ms/step - loss: 7.2986e-04 - accuracy: 0.9972 - val_loss: 6.0150e-04 - val_accuracy: 0.9973\n",
      "Epoch 21/75\n",
      "138/138 [==============================] - 22s 161ms/step - loss: 6.2298e-04 - accuracy: 0.9973 - val_loss: 6.0293e-04 - val_accuracy: 0.9973\n",
      "Epoch 22/75\n",
      "138/138 [==============================] - 22s 162ms/step - loss: 5.7345e-04 - accuracy: 0.9973 - val_loss: 5.2185e-04 - val_accuracy: 0.9974\n",
      "Epoch 23/75\n",
      "138/138 [==============================] - 22s 162ms/step - loss: 5.6912e-04 - accuracy: 0.9973 - val_loss: 5.0141e-04 - val_accuracy: 0.9974\n",
      "Epoch 24/75\n",
      "138/138 [==============================] - 22s 162ms/step - loss: 5.0936e-04 - accuracy: 0.9974 - val_loss: 4.7660e-04 - val_accuracy: 0.9974\n",
      "Epoch 25/75\n",
      "138/138 [==============================] - 22s 162ms/step - loss: 4.9147e-04 - accuracy: 0.9974 - val_loss: 4.6158e-04 - val_accuracy: 0.9974\n",
      "Epoch 26/75\n",
      "138/138 [==============================] - 22s 163ms/step - loss: 4.6223e-04 - accuracy: 0.9974 - val_loss: 4.9575e-04 - val_accuracy: 0.9974\n",
      "Epoch 27/75\n",
      "138/138 [==============================] - 22s 162ms/step - loss: 4.9187e-04 - accuracy: 0.9974 - val_loss: 4.3528e-04 - val_accuracy: 0.9974\n",
      "Epoch 28/75\n",
      "138/138 [==============================] - 22s 162ms/step - loss: 4.4930e-04 - accuracy: 0.9974 - val_loss: 4.1355e-04 - val_accuracy: 0.9975\n",
      "Epoch 29/75\n",
      "138/138 [==============================] - 22s 163ms/step - loss: 4.1515e-04 - accuracy: 0.9975 - val_loss: 4.9355e-04 - val_accuracy: 0.9973\n",
      "Epoch 30/75\n",
      "138/138 [==============================] - 22s 162ms/step - loss: 5.1424e-04 - accuracy: 0.9974 - val_loss: 4.2500e-04 - val_accuracy: 0.9974\n",
      "Epoch 31/75\n",
      "138/138 [==============================] - 22s 161ms/step - loss: 3.9257e-04 - accuracy: 0.9975 - val_loss: 4.0564e-04 - val_accuracy: 0.9975\n",
      "Epoch 32/75\n",
      "138/138 [==============================] - 22s 162ms/step - loss: 3.9593e-04 - accuracy: 0.9975 - val_loss: 4.1354e-04 - val_accuracy: 0.9975\n",
      "Epoch 33/75\n",
      "138/138 [==============================] - 22s 161ms/step - loss: 3.8693e-04 - accuracy: 0.9975 - val_loss: 3.8860e-04 - val_accuracy: 0.9975\n",
      "Epoch 34/75\n",
      "138/138 [==============================] - 22s 162ms/step - loss: 3.6223e-04 - accuracy: 0.9975 - val_loss: 4.1403e-04 - val_accuracy: 0.9975\n",
      "Epoch 35/75\n",
      "138/138 [==============================] - 22s 162ms/step - loss: 3.5689e-04 - accuracy: 0.9975 - val_loss: 3.5433e-04 - val_accuracy: 0.9975\n",
      "Epoch 36/75\n",
      "138/138 [==============================] - 22s 161ms/step - loss: 3.5828e-04 - accuracy: 0.9975 - val_loss: 3.7094e-04 - val_accuracy: 0.9975\n",
      "Epoch 37/75\n",
      "138/138 [==============================] - 23s 164ms/step - loss: 3.4691e-04 - accuracy: 0.9975 - val_loss: 4.0508e-04 - val_accuracy: 0.9975\n",
      "Epoch 38/75\n",
      "138/138 [==============================] - 22s 162ms/step - loss: 3.3637e-04 - accuracy: 0.9975 - val_loss: 3.1834e-04 - val_accuracy: 0.9975\n",
      "Epoch 39/75\n",
      "138/138 [==============================] - 22s 162ms/step - loss: 3.1961e-04 - accuracy: 0.9976 - val_loss: 3.3748e-04 - val_accuracy: 0.9975\n",
      "Epoch 40/75\n",
      "138/138 [==============================] - 22s 162ms/step - loss: 4.2629e-04 - accuracy: 0.9976 - val_loss: 3.6975e-04 - val_accuracy: 0.9975\n",
      "Epoch 41/75\n",
      "138/138 [==============================] - 22s 162ms/step - loss: 3.1839e-04 - accuracy: 0.9975 - val_loss: 4.8754e-04 - val_accuracy: 0.9975\n",
      "Epoch 42/75\n",
      "138/138 [==============================] - 22s 162ms/step - loss: 3.3088e-04 - accuracy: 0.9975 - val_loss: 3.0063e-04 - val_accuracy: 0.9975\n",
      "Epoch 43/75\n",
      "138/138 [==============================] - 22s 162ms/step - loss: 3.2049e-04 - accuracy: 0.9976 - val_loss: 3.7769e-04 - val_accuracy: 0.9975\n",
      "Epoch 44/75\n",
      "138/138 [==============================] - 22s 162ms/step - loss: 2.8099e-04 - accuracy: 0.9976 - val_loss: 3.0780e-04 - val_accuracy: 0.9975\n",
      "Epoch 45/75\n",
      "138/138 [==============================] - 22s 162ms/step - loss: 3.0136e-04 - accuracy: 0.9976 - val_loss: 3.3164e-04 - val_accuracy: 0.9975\n",
      "Epoch 46/75\n",
      "138/138 [==============================] - 22s 162ms/step - loss: 3.8014e-04 - accuracy: 0.9976 - val_loss: 3.3039e-04 - val_accuracy: 0.9975\n",
      "Epoch 47/75\n",
      "138/138 [==============================] - 22s 162ms/step - loss: 2.5816e-04 - accuracy: 0.9976 - val_loss: 4.5567e-04 - val_accuracy: 0.9974\n",
      "Epoch 48/75\n",
      "138/138 [==============================] - 22s 162ms/step - loss: 3.5660e-04 - accuracy: 0.9975 - val_loss: 2.9184e-04 - val_accuracy: 0.9975\n",
      "Epoch 49/75\n",
      "138/138 [==============================] - 22s 162ms/step - loss: 2.5749e-04 - accuracy: 0.9976 - val_loss: 3.0772e-04 - val_accuracy: 0.9976\n",
      "Epoch 50/75\n",
      "138/138 [==============================] - 22s 162ms/step - loss: 2.4690e-04 - accuracy: 0.9976 - val_loss: 2.7603e-04 - val_accuracy: 0.9976\n",
      "Epoch 51/75\n",
      "138/138 [==============================] - 22s 162ms/step - loss: 2.9786e-04 - accuracy: 0.9976 - val_loss: 2.9851e-04 - val_accuracy: 0.9975\n",
      "Epoch 52/75\n",
      "138/138 [==============================] - 22s 162ms/step - loss: 2.5576e-04 - accuracy: 0.9976 - val_loss: 3.1637e-04 - val_accuracy: 0.9975\n",
      "Epoch 53/75\n",
      "138/138 [==============================] - 22s 162ms/step - loss: 3.0739e-04 - accuracy: 0.9976 - val_loss: 2.9053e-04 - val_accuracy: 0.9976\n",
      "Epoch 54/75\n",
      "138/138 [==============================] - 22s 162ms/step - loss: 2.4208e-04 - accuracy: 0.9976 - val_loss: 3.1408e-04 - val_accuracy: 0.9975\n"
     ]
    },
    {
     "name": "stdout",
     "output_type": "stream",
     "text": [
      "Epoch 55/75\n",
      "138/138 [==============================] - 22s 162ms/step - loss: 2.6247e-04 - accuracy: 0.9976 - val_loss: 2.7082e-04 - val_accuracy: 0.9976\n",
      "Epoch 56/75\n",
      "138/138 [==============================] - 22s 162ms/step - loss: 2.4459e-04 - accuracy: 0.9977 - val_loss: 2.9416e-04 - val_accuracy: 0.9975\n",
      "Epoch 57/75\n",
      "138/138 [==============================] - 22s 162ms/step - loss: 2.4361e-04 - accuracy: 0.9976 - val_loss: 3.0672e-04 - val_accuracy: 0.9976\n",
      "Epoch 58/75\n",
      "138/138 [==============================] - 22s 162ms/step - loss: 2.1589e-04 - accuracy: 0.9976 - val_loss: 2.9714e-04 - val_accuracy: 0.9976\n",
      "Epoch 59/75\n",
      "138/138 [==============================] - 22s 161ms/step - loss: 2.2479e-04 - accuracy: 0.9977 - val_loss: 2.8251e-04 - val_accuracy: 0.9975\n",
      "Epoch 60/75\n",
      "138/138 [==============================] - 22s 161ms/step - loss: 1.9775e-04 - accuracy: 0.9977 - val_loss: 2.8244e-04 - val_accuracy: 0.9976\n",
      "Epoch 61/75\n",
      "138/138 [==============================] - 22s 162ms/step - loss: 1.8595e-04 - accuracy: 0.9977 - val_loss: 2.6770e-04 - val_accuracy: 0.9976\n",
      "Epoch 62/75\n",
      "138/138 [==============================] - 22s 163ms/step - loss: 2.2951e-04 - accuracy: 0.9977 - val_loss: 4.4776e-04 - val_accuracy: 0.9974\n",
      "Epoch 63/75\n",
      "138/138 [==============================] - 22s 162ms/step - loss: 2.2950e-04 - accuracy: 0.9976 - val_loss: 2.6588e-04 - val_accuracy: 0.9976\n",
      "Epoch 64/75\n",
      "138/138 [==============================] - 22s 162ms/step - loss: 1.9601e-04 - accuracy: 0.9977 - val_loss: 3.0733e-04 - val_accuracy: 0.9975\n",
      "Epoch 65/75\n",
      "138/138 [==============================] - 22s 162ms/step - loss: 2.0570e-04 - accuracy: 0.9977 - val_loss: 5.4753e-04 - val_accuracy: 0.9976\n",
      "Epoch 66/75\n",
      "138/138 [==============================] - 22s 162ms/step - loss: 4.0575e-04 - accuracy: 0.9977 - val_loss: 2.4156e-04 - val_accuracy: 0.9976\n",
      "Epoch 67/75\n",
      "138/138 [==============================] - 22s 162ms/step - loss: 1.6871e-04 - accuracy: 0.9977 - val_loss: 2.5016e-04 - val_accuracy: 0.9976\n",
      "Epoch 68/75\n",
      "138/138 [==============================] - 22s 162ms/step - loss: 1.6675e-04 - accuracy: 0.9977 - val_loss: 2.8107e-04 - val_accuracy: 0.9975\n",
      "Epoch 69/75\n",
      "138/138 [==============================] - 22s 162ms/step - loss: 2.4716e-04 - accuracy: 0.9977 - val_loss: 3.0617e-04 - val_accuracy: 0.9975\n",
      "Epoch 70/75\n",
      "138/138 [==============================] - 22s 162ms/step - loss: 1.9902e-04 - accuracy: 0.9977 - val_loss: 2.5878e-04 - val_accuracy: 0.9976\n",
      "Epoch 71/75\n",
      "138/138 [==============================] - 22s 162ms/step - loss: 1.8434e-04 - accuracy: 0.9976 - val_loss: 3.6373e-04 - val_accuracy: 0.9975\n",
      "Epoch 72/75\n",
      "138/138 [==============================] - 22s 162ms/step - loss: 2.2487e-04 - accuracy: 0.9976 - val_loss: 2.4355e-04 - val_accuracy: 0.9976\n",
      "Epoch 73/75\n",
      "138/138 [==============================] - 22s 163ms/step - loss: 1.7625e-04 - accuracy: 0.9977 - val_loss: 2.5620e-04 - val_accuracy: 0.9976\n",
      "Epoch 74/75\n",
      "138/138 [==============================] - 22s 162ms/step - loss: 2.0525e-04 - accuracy: 0.9977 - val_loss: 2.7873e-04 - val_accuracy: 0.9976\n",
      "Epoch 75/75\n",
      "138/138 [==============================] - 22s 162ms/step - loss: 1.6987e-04 - accuracy: 0.9977 - val_loss: 2.6868e-04 - val_accuracy: 0.9976\n"
     ]
    }
   ],
   "source": [
    "history = enc_dec.fit(lr_train,hr_train, \n",
    "            batch_size=32,\n",
    "            epochs=75,\n",
    "            validation_data=(lr_val, hr_val),\n",
    "            callbacks=[early_stopper, model_checkpoint])"
   ]
  },
  {
   "cell_type": "code",
   "execution_count": 51,
   "id": "bb2cfacf",
   "metadata": {},
   "outputs": [
    {
     "name": "stdout",
     "output_type": "stream",
     "text": [
      "50/50 [==============================] - 2s 46ms/step - loss: 2.6868e-04 - accuracy: 0.9976\n",
      "val_loss, val_accuracy [0.00026868245913647115, 0.9975594878196716]\n"
     ]
    }
   ],
   "source": [
    "results = enc_dec.evaluate(lr_val, hr_val)\n",
    "print('val_loss, val_accuracy', results)"
   ]
  },
  {
   "cell_type": "code",
   "execution_count": 58,
   "id": "afc70e5e",
   "metadata": {},
   "outputs": [],
   "source": [
    "enc_dec.load_weights('models/SR3_diff_shape_mse_loss_checkpoint.h5')"
   ]
  },
  {
   "cell_type": "code",
   "execution_count": 59,
   "id": "758b9647",
   "metadata": {},
   "outputs": [
    {
     "name": "stdout",
     "output_type": "stream",
     "text": [
      "50/50 - 2s - loss: 2.4156e-04 - accuracy: 0.9976\n",
      "Restored model, accuracy: 99.76%\n"
     ]
    }
   ],
   "source": [
    "loss, acc = enc_dec.evaluate(lr_val, hr_val, verbose=2)\n",
    "print(\"Restored model, accuracy: {:5.2f}%\".format(100 * acc))"
   ]
  },
  {
   "cell_type": "code",
   "execution_count": 52,
   "id": "7ff7ab9a",
   "metadata": {},
   "outputs": [],
   "source": [
    "pred = enc_dec.predict(lr_val)"
   ]
  },
  {
   "cell_type": "code",
   "execution_count": 53,
   "id": "64533312",
   "metadata": {},
   "outputs": [
    {
     "name": "stdout",
     "output_type": "stream",
     "text": [
      "(1600, 128, 128, 1)\n"
     ]
    }
   ],
   "source": [
    "print(pred.shape)"
   ]
  },
  {
   "cell_type": "code",
   "execution_count": 54,
   "id": "b065b14d",
   "metadata": {},
   "outputs": [
    {
     "data": {
      "text/plain": [
       "<matplotlib.image.AxesImage at 0x7f345048b8e0>"
      ]
     },
     "execution_count": 54,
     "metadata": {},
     "output_type": "execute_result"
    },
    {
     "data": {
      "image/png": "[encoded data removed]",
      "text/plain": [
       "<Figure size 432x288 with 1 Axes>"
      ]
     },
     "metadata": {
      "needs_background": "light"
     },
     "output_type": "display_data"
    }
   ],
   "source": [
    "plt.imshow(lr_val[1])"
   ]
  },
  {
   "cell_type": "code",
   "execution_count": 55,
   "id": "13526340",
   "metadata": {},
   "outputs": [
    {
     "data": {
      "text/plain": [
       "<matplotlib.image.AxesImage at 0x7f34600468b0>"
      ]
     },
     "execution_count": 55,
     "metadata": {},
     "output_type": "execute_result"
    },
    {
     "data": {
      "image/png": "[encoded data removed]",
      "text/plain": [
       "<Figure size 432x288 with 1 Axes>"
      ]
     },
     "metadata": {
      "needs_background": "light"
     },
     "output_type": "display_data"
    }
   ],
   "source": [
    "plt.imshow(pred[1])"
   ]
  },
  {
   "cell_type": "code",
   "execution_count": 75,
   "id": "91bc8545",
   "metadata": {},
   "outputs": [],
   "source": [
    "def normalize(v):\n",
    "    v_min = v.min(axis=(1, 2), keepdims=True)\n",
    "    v_max = v.max(axis=(1, 2), keepdims=True)\n",
    "    return (v - v_min)/(v_max - v_min)"
   ]
  },
  {
   "cell_type": "code",
   "execution_count": 83,
   "id": "eca0f8c3",
   "metadata": {},
   "outputs": [
    {
     "name": "stdout",
     "output_type": "stream",
     "text": [
      "(1, 128, 128, 1)\n"
     ]
    },
    {
     "data": {
      "text/plain": [
       "<matplotlib.image.AxesImage at 0x7f33dcc205e0>"
      ]
     },
     "execution_count": 83,
     "metadata": {},
     "output_type": "execute_result"
    },
    {
     "data": {
      "image/png": "[encoded data removed]",
      "text/plain": [
       "<Figure size 432x288 with 1 Axes>"
      ]
     },
     "metadata": {
      "needs_background": "light"
     },
     "output_type": "display_data"
    }
   ],
   "source": [
    "import os\n",
    "scene = '2019_04_09_BMS1000'\n",
    "seq_num = 150\n",
    "img_name = os.path.join('/home/vr-lab/Asish/8th Sem Radar Project/Datasets/CRUW/TRAIN_RAD_H',scene,'RADAR_RA_H','%06d_0000.npy' % seq_num)\n",
    "img = np.load(img_name)\n",
    "fimg = np.sqrt(np.sum(np.square(img), axis=2,keepdims=True))\n",
    "fimg = np.expand_dims(fimg, axis=0)\n",
    "fimg = normalize(fimg)\n",
    "fimg =1-fimg\n",
    "print(fimg.shape)\n",
    "# print(fimg.min())\n",
    "plt.imshow(fimg[0])"
   ]
  },
  {
   "cell_type": "code",
   "execution_count": 84,
   "id": "104e8511",
   "metadata": {},
   "outputs": [
    {
     "name": "stdout",
     "output_type": "stream",
     "text": [
      "(1, 128, 128, 1)\n"
     ]
    },
    {
     "data": {
      "text/plain": [
       "<matplotlib.image.AxesImage at 0x7f33dcb925e0>"
      ]
     },
     "execution_count": 84,
     "metadata": {},
     "output_type": "execute_result"
    },
    {
     "data": {
      "image/png": "[encoded data removed]",
      "text/plain": [
       "<Figure size 432x288 with 1 Axes>"
      ]
     },
     "metadata": {
      "needs_background": "light"
     },
     "output_type": "display_data"
    }
   ],
   "source": [
    "pred1 = enc_dec.predict(fimg)\n",
    "print(pred1.shape)\n",
    "plt.imshow(pred1[0])"
   ]
  }
 ],
 "metadata": {
  "kernelspec": {
   "display_name": "Python 3 (ipykernel)",
   "language": "python",
   "name": "python3"
  },
  "language_info": {
   "codemirror_mode": {
    "name": "ipython",
    "version": 3
   },
   "file_extension": ".py",
   "mimetype": "text/x-python",
   "name": "python",
   "nbconvert_exporter": "python",
   "pygments_lexer": "ipython3",
   "version": "3.10.4"
  }
 },
 "nbformat": 4,
 "nbformat_minor": 5
}
