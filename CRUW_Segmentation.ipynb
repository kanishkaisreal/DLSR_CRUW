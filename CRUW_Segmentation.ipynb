{
 "cells": [
  {
   "cell_type": "code",
   "execution_count": 11,
   "id": "640a387f",
   "metadata": {},
   "outputs": [
    {
     "name": "stdout",
     "output_type": "stream",
     "text": [
      "Cloning into 'cruw-devkit'...\n",
      "remote: Enumerating objects: 266, done.\u001b[K\n",
      "remote: Counting objects: 100% (4/4), done.\u001b[K\n",
      "remote: Compressing objects: 100% (4/4), done.\u001b[K\n",
      "remote: Total 266 (delta 0), reused 0 (delta 0), pack-reused 262\u001b[K\n",
      "Receiving objects: 100% (266/266), 1.20 MiB | 1.95 MiB/s, done.\n",
      "Resolving deltas: 100% (151/151), done.\n"
     ]
    }
   ],
   "source": [
    "!git clone https://github.com/yizhou-wang/cruw-devkit.git"
   ]
  },
  {
   "cell_type": "code",
   "execution_count": 1,
   "id": "d7361bde",
   "metadata": {},
   "outputs": [
    {
     "name": "stdout",
     "output_type": "stream",
     "text": [
      "/home/vr-lab/Asish/8th Sem Radar Project/cruw-devkit\n"
     ]
    }
   ],
   "source": [
    "%cd cruw-devkit"
   ]
  },
  {
   "cell_type": "code",
   "execution_count": 2,
   "id": "f4dded1b",
   "metadata": {},
   "outputs": [],
   "source": [
    "from cruw import CRUW\n",
    "import numpy as np\n",
    "import matplotlib.pyplot as plt\n",
    "from cruw.mapping import ra2idx, idx2ra\n",
    "import math\n",
    "import os\n"
   ]
  },
  {
   "cell_type": "code",
   "execution_count": 4,
   "id": "2370e66a",
   "metadata": {},
   "outputs": [
    {
     "name": "stdout",
     "output_type": "stream",
     "text": [
      "warning: loading calibration data failed\n"
     ]
    }
   ],
   "source": [
    "data_root='/mnt/disk1/CRUW/ROD2021'\n",
    "dataset = CRUW(data_root=data_root, sensor_config_name='sensor_config_rod2021')\n"
   ]
  },
  {
   "cell_type": "code",
   "execution_count": 6,
   "id": "29ac821e",
   "metadata": {},
   "outputs": [
    {
     "name": "stdout",
     "output_type": "stream",
     "text": [
      "['2019_04_09_BMS1000', '2019_04_09_BMS1001', '2019_04_09_BMS1002', '2019_04_09_CMS1002', '2019_04_09_PMS1000', '2019_04_09_PMS1001', '2019_04_09_PMS2000', '2019_04_09_PMS3000', '2019_04_30_MLMS000', '2019_04_30_MLMS001', '2019_04_30_MLMS002', '2019_04_30_PBMS002', '2019_04_30_PBMS003', '2019_04_30_PCMS001', '2019_04_30_PM2S003', '2019_04_30_PM2S004', '2019_05_09_BM1S008', '2019_05_09_CM1S004', '2019_05_09_MLMS003', '2019_05_09_PBMS004', '2019_05_09_PCMS002', '2019_05_23_PM1S012', '2019_05_23_PM1S013', '2019_05_23_PM1S014', '2019_05_23_PM1S015', '2019_05_23_PM2S011', '2019_05_29_BCMS000', '2019_05_29_BM1S016', '2019_05_29_BM1S017', '2019_05_29_MLMS006', '2019_05_29_PBMS007', '2019_05_29_PCMS005', '2019_05_29_PM2S015', '2019_05_29_PM3S000', '2019_09_29_ONRD001', '2019_09_29_ONRD002', '2019_09_29_ONRD005', '2019_09_29_ONRD006', '2019_09_29_ONRD011', '2019_09_29_ONRD013']\n"
     ]
    }
   ],
   "source": [
    "scene_list = os.listdir(\"/home/vr-lab/Asish/8th Sem Radar Project/Datasets/CRUW/TRAIN_RAD_H/\")\n",
    "scene_list.sort()\n",
    "print(scene_list)"
   ]
  },
  {
   "cell_type": "code",
   "execution_count": 8,
   "id": "f98faf7b",
   "metadata": {
    "scrolled": true
   },
   "outputs": [
    {
     "name": "stdout",
     "output_type": "stream",
     "text": [
      "2019_04_09_BMS1000  over\n",
      "2019_04_09_BMS1001  over\n"
     ]
    },
    {
     "data": {
      "image/png": "[encoded data removed]",
      "text/plain": [
       "<Figure size 432x288 with 1 Axes>"
      ]
     },
     "metadata": {
      "needs_background": "light"
     },
     "output_type": "display_data"
    }
   ],
   "source": [
    "for scene in scene_list[0:2]:\n",
    "    \n",
    "    anno_path = os.path.join('/home/vr-lab/Asish/8th Sem Radar Project/Datasets/CRUW/TRAIN_RAD_H_ANNO',scene+'.txt')\n",
    "    \n",
    "    with open(anno_path) as f:\n",
    "        lines = f.readlines()\n",
    "\n",
    "    for line in lines[0:10]:\n",
    "        words = line.split(\" \")\n",
    "        seq_num = int(words[0])\n",
    "        rng = float(words[1])\n",
    "        azm = float(words[2])\n",
    "        label = words[3][:-1]\n",
    "\n",
    "        rid, aid = ra2idx(rng, azm, dataset.range_grid, dataset.angle_grid)\n",
    "\n",
    "        img_name = os.path.join('/home/vr-lab/Asish/8th Sem Radar Project/Datasets/CRUW_SR/',scene,'%06d_0000.npy' % seq_num)\n",
    "\n",
    "        fimg = np.load(img_name)\n",
    "#         fimg = np.sqrt(np.square(img[:,:,0])+np.square(img[:,:,1]))\n",
    "\n",
    "#         path = os.path.join('/home/vr-lab/Asish/8th Sem Radar Project/Datasets/CRUW_seg', label, scene + \"_%06d_0000.npy\" % seq_num)\n",
    "        seg_fimg = fimg[rid-5:rid+5,aid-5:aid+5]\n",
    "        \n",
    "        plt.imshow(seg_fimg)\n",
    "\n",
    "#         np.save(path,seg_fimg)\n",
    "    \n",
    "    print(scene,\" over\")\n"
   ]
  },
  {
   "cell_type": "code",
   "execution_count": 11,
   "id": "0afd15c6",
   "metadata": {},
   "outputs": [],
   "source": [
    "id, aid = ra2idx(10.0369, 0.5760, dataset.range_grid, dataset.angle_grid)"
   ]
  },
  {
   "cell_type": "code",
   "execution_count": 28,
   "id": "1b606baf",
   "metadata": {},
   "outputs": [
    {
     "name": "stdout",
     "output_type": "stream",
     "text": [
      "(128, 128, 1)\n"
     ]
    }
   ],
   "source": [
    "img = np.load('/home/vr-lab/Asish/8th Sem Radar Project/Datasets/CRUW_SR/2019_05_09_BM1S008/000100_0000.npy')\n",
    "print(img.shape)"
   ]
  },
  {
   "cell_type": "code",
   "execution_count": 26,
   "id": "e9491720",
   "metadata": {},
   "outputs": [
    {
     "name": "stdout",
     "output_type": "stream",
     "text": [
      "67 98\n"
     ]
    },
    {
     "data": {
      "text/plain": [
       "<matplotlib.image.AxesImage at 0x7fb7e035d7c0>"
      ]
     },
     "execution_count": 26,
     "metadata": {},
     "output_type": "execute_result"
    },
    {
     "data": {
      "image/png": "[encoded data removed]",
      "text/plain": [
       "<Figure size 432x288 with 1 Axes>"
      ]
     },
     "metadata": {
      "needs_background": "light"
     },
     "output_type": "display_data"
    }
   ],
   "source": [
    "num=10\n",
    "print(rid,aid)\n",
    "plt.imshow(img[rid-num:rid+num,aid-num:aid+num])"
   ]
  },
  {
   "cell_type": "code",
   "execution_count": 72,
   "id": "280b17a5",
   "metadata": {},
   "outputs": [],
   "source": [
    "a = np.load(\"/home/vr-lab/Asish/8th Sem Radar Project/Datasets/CRUW_seg/pedestrian/2019_05_29_PM2S015_000313_0000.npy\")"
   ]
  },
  {
   "cell_type": "code",
   "execution_count": 73,
   "id": "0fa7d281",
   "metadata": {},
   "outputs": [
    {
     "data": {
      "text/plain": [
       "<matplotlib.image.AxesImage at 0x7fb2f0ac1b80>"
      ]
     },
     "execution_count": 73,
     "metadata": {},
     "output_type": "execute_result"
    },
    {
     "data": {
      "image/png": "[encoded data removed]",
      "text/plain": [
       "<Figure size 432x288 with 1 Axes>"
      ]
     },
     "metadata": {
      "needs_background": "light"
     },
     "output_type": "display_data"
    }
   ],
   "source": [
    "plt.imshow(a)"
   ]
  }
 ],
 "metadata": {
  "kernelspec": {
   "display_name": "Python 3 (ipykernel)",
   "language": "python",
   "name": "python3"
  },
  "language_info": {
   "codemirror_mode": {
    "name": "ipython",
    "version": 3
   },
   "file_extension": ".py",
   "mimetype": "text/x-python",
   "name": "python",
   "nbconvert_exporter": "python",
   "pygments_lexer": "ipython3",
   "version": "3.10.4"
  }
 },
 "nbformat": 4,
 "nbformat_minor": 5
}
