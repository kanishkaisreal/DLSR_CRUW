{
 "cells": [
  {
   "cell_type": "code",
   "execution_count": 1,
   "id": "640a387f",
   "metadata": {},
   "outputs": [
    {
     "name": "stdout",
     "output_type": "stream",
     "text": [
      "fatal: destination path 'cruw-devkit' already exists and is not an empty directory.\r\n"
     ]
    }
   ],
   "source": [
    "!git clone https://github.com/yizhou-wang/cruw-devkit.git"
   ]
  },
  {
   "cell_type": "code",
   "execution_count": 2,
   "id": "d7361bde",
   "metadata": {},
   "outputs": [
    {
     "name": "stdout",
     "output_type": "stream",
     "text": [
      "/home/vr-lab/Asish/8th Sem Radar Project/Codes/cruw-devkit\n"
     ]
    }
   ],
   "source": [
    "%cd cruw-devkit"
   ]
  },
  {
   "cell_type": "code",
   "execution_count": 3,
   "id": "f4dded1b",
   "metadata": {},
   "outputs": [],
   "source": [
    "from cruw import CRUW\n",
    "import numpy as np\n",
    "import matplotlib.pyplot as plt\n",
    "from cruw.mapping import ra2idx, idx2ra\n",
    "import math\n",
    "import os\n",
    "import random"
   ]
  },
  {
   "cell_type": "code",
   "execution_count": 4,
   "id": "2370e66a",
   "metadata": {},
   "outputs": [
    {
     "name": "stdout",
     "output_type": "stream",
     "text": [
      "warning: loading calibration data failed\n"
     ]
    }
   ],
   "source": [
    "data_root='/mnt/disk1/CRUW/ROD2021'\n",
    "dataset = CRUW(data_root=data_root, sensor_config_name='sensor_config_rod2021')\n"
   ]
  },
  {
   "cell_type": "code",
   "execution_count": 5,
   "id": "29ac821e",
   "metadata": {},
   "outputs": [
    {
     "name": "stdout",
     "output_type": "stream",
     "text": [
      "['2019_04_09_BMS1000', '2019_04_09_BMS1001', '2019_04_09_BMS1002', '2019_04_09_CMS1002', '2019_04_09_PMS1000', '2019_04_09_PMS1001', '2019_04_09_PMS2000', '2019_04_09_PMS3000', '2019_04_30_MLMS000', '2019_04_30_MLMS001', '2019_04_30_MLMS002', '2019_04_30_PBMS002', '2019_04_30_PBMS003', '2019_04_30_PCMS001', '2019_04_30_PM2S003', '2019_04_30_PM2S004', '2019_05_09_BM1S008', '2019_05_09_CM1S004', '2019_05_09_MLMS003', '2019_05_09_PBMS004', '2019_05_09_PCMS002', '2019_05_23_PM1S012', '2019_05_23_PM1S013', '2019_05_23_PM1S014', '2019_05_23_PM1S015', '2019_05_23_PM2S011', '2019_05_29_BCMS000', '2019_05_29_BM1S016', '2019_05_29_BM1S017', '2019_05_29_MLMS006', '2019_05_29_PBMS007', '2019_05_29_PCMS005', '2019_05_29_PM2S015', '2019_05_29_PM3S000', '2019_09_29_ONRD001', '2019_09_29_ONRD002', '2019_09_29_ONRD005', '2019_09_29_ONRD006', '2019_09_29_ONRD011', '2019_09_29_ONRD013']\n"
     ]
    }
   ],
   "source": [
    "scene_list = os.listdir(\"/home/vr-lab/Asish/8th Sem Radar Project/Datasets/CRUW/TRAIN_RAD_H/\")\n",
    "scene_list.sort()\n",
    "print(scene_list)"
   ]
  },
  {
   "cell_type": "code",
   "execution_count": 11,
   "id": "f98faf7b",
   "metadata": {
    "scrolled": true
   },
   "outputs": [
    {
     "name": "stdout",
     "output_type": "stream",
     "text": [
      "2019_04_09_BMS1000  over\n",
      "2019_04_09_BMS1001  over\n",
      "2019_04_09_BMS1002  over\n",
      "2019_04_09_CMS1002  over\n",
      "2019_04_09_PMS1000  over\n",
      "2019_04_09_PMS1001  over\n",
      "2019_04_09_PMS2000  over\n",
      "2019_04_09_PMS3000  over\n",
      "2019_04_30_MLMS000  over\n",
      "2019_04_30_MLMS001  over\n",
      "2019_04_30_MLMS002  over\n",
      "2019_04_30_PBMS002  over\n",
      "2019_04_30_PBMS003  over\n",
      "2019_04_30_PCMS001  over\n",
      "2019_04_30_PM2S003  over\n",
      "2019_04_30_PM2S004  over\n",
      "2019_05_09_BM1S008  over\n",
      "2019_05_09_CM1S004  over\n",
      "2019_05_09_MLMS003  over\n",
      "2019_05_09_PBMS004  over\n",
      "2019_05_09_PCMS002  over\n",
      "2019_05_23_PM1S012  over\n",
      "2019_05_23_PM1S013  over\n",
      "2019_05_23_PM1S014  over\n",
      "2019_05_23_PM1S015  over\n",
      "2019_05_23_PM2S011  over\n",
      "2019_05_29_BCMS000  over\n",
      "2019_05_29_BM1S016  over\n",
      "2019_05_29_BM1S017  over\n",
      "2019_05_29_MLMS006  over\n",
      "2019_05_29_PBMS007  over\n",
      "2019_05_29_PCMS005  over\n",
      "2019_05_29_PM2S015  over\n",
      "2019_05_29_PM3S000  over\n",
      "2019_09_29_ONRD001  over\n",
      "2019_09_29_ONRD002  over\n",
      "2019_09_29_ONRD005  over\n",
      "2019_09_29_ONRD006  over\n",
      "2019_09_29_ONRD011  over\n",
      "2019_09_29_ONRD013  over\n"
     ]
    }
   ],
   "source": [
    "for scene in scene_list:\n",
    "    anno_path = os.path.join('/home/vr-lab/Asish/8th Sem Radar Project/Datasets/CRUW/TRAIN_RAD_H_ANNO',scene+'.txt')\n",
    "    \n",
    "    with open(anno_path) as f:\n",
    "        lines = f.readlines()\n",
    "    \n",
    "    c = 0\n",
    "    crd_mat = []\n",
    "    for line in lines:\n",
    "        words = line.split(\" \")\n",
    "        seq_num = int(words[0])\n",
    "        rng = float(words[1])\n",
    "        azm = float(words[2])\n",
    "        label = words[3][:-1]\n",
    "\n",
    "        img_name = os.path.join('/home/vr-lab/Asish/8th Sem Radar Project/Datasets/CRUW/TRAIN_RAD_H',scene,'RADAR_RA_H/%06d_0000.npy' % seq_num)\n",
    "        fimg = np.load(img_name)\n",
    "        fimg = np.sqrt(np.square(fimg[:,:,0])+np.square(fimg[:,:,1]))\n",
    "        imgw, imgh = fimg.shape\n",
    "        \n",
    "        pimg = np.zeros((imgw+10, imgh+50))\n",
    "        pimg[5:-5,25:-25] = fimg\n",
    "\n",
    "                \n",
    "        if c != seq_num:\n",
    "            n_points = 4\n",
    "            xz = np.random.randint(0, imgw, n_points)\n",
    "            yz = np.random.randint(0, imgh, n_points)\n",
    "            points  = [[xz[i], yz[i]] for i in range(n_points)]\n",
    "#             print(points)\n",
    "            for i in crd_mat:\n",
    "                xp = i[0]\n",
    "                yp = i[1]\n",
    "                for j in points:\n",
    "                    xz = j[0]\n",
    "                    yz = j[1]\n",
    "                    if xp-5<=xz<=xp+5 and yp-25<=yz<=yp+25:\n",
    "#                         print(xz,\",\", yz)\n",
    "                        points.remove([xz,yz])\n",
    "#             print(\"Valid points : \", points)\n",
    "            \n",
    "            kseq_num = seq_num-1\n",
    "            kimg_name = os.path.join('/home/vr-lab/Asish/8th Sem Radar Project/Datasets/CRUW/TRAIN_RAD_H',scene,'RADAR_RA_H/%06d_0000.npy' %kseq_num)\n",
    "            kimg = np.load(kimg_name)\n",
    "            kimg = np.sqrt(np.square(kimg[:,:,0])+np.square(kimg[:,:,1]))\n",
    "            \n",
    "            bimg = np.zeros((imgw+10, imgh+50))\n",
    "            bimg[5:-5,25:-25] = kimg\n",
    "#             plt.imshow(bimg)\n",
    "#             Since we are cchanging the image dimensions, the points will also change\n",
    "            \n",
    "            num = 0\n",
    "            for j in points:\n",
    "                xz = j[0] + 5\n",
    "                yz = j[1] + 25\n",
    "                seg_bimg = bimg[xz-5:xz+5,yz-25:yz+25]\n",
    "                path1 = os.path.join('/home/vr-lab/Asish/8th Sem Radar Project/Datasets/CRUW_seg/none', scene +\"_\"+str(num)+\"_%06d_0000.npy\" % seq_num)\n",
    "                np.save(path1,seg_fimg)\n",
    "                num = num+1\n",
    "            crd_mat = []\n",
    "\n",
    "        rid, aid = ra2idx(rng, azm, dataset.range_grid, dataset.angle_grid)\n",
    "\n",
    "        path2 = os.path.join('/home/vr-lab/Asish/8th Sem Radar Project/Datasets/CRUW_seg', label, scene + \"_%06d_0000.npy\" % seq_num)\n",
    "        seg_fimg = pimg[rid+5-5:rid+5+5,aid+25-25:aid+25+25]\n",
    "        \n",
    "#         plt.imshow(seg_fimg)\n",
    "\n",
    "        np.save(path2,seg_fimg)\n",
    "        c = seq_num\n",
    "        crd_mat.append([rid,aid])\n",
    "#         print(seq_num,\" : \",crd_mat,\" : \",label)\n",
    "    print(scene,\" over\")\n"
   ]
  },
  {
   "cell_type": "code",
   "execution_count": null,
   "id": "9bfe420c",
   "metadata": {},
   "outputs": [],
   "source": [
    "plt.imshow(kimg)"
   ]
  },
  {
   "cell_type": "code",
   "execution_count": null,
   "id": "90056712",
   "metadata": {},
   "outputs": [],
   "source": [
    "plt.imshow(fimg)"
   ]
  },
  {
   "cell_type": "code",
   "execution_count": null,
   "id": "0afd15c6",
   "metadata": {},
   "outputs": [],
   "source": [
    "id, aid = ra2idx(10.0369, 0.5760, dataset.range_grid, dataset.angle_grid)"
   ]
  },
  {
   "cell_type": "code",
   "execution_count": null,
   "id": "1b606baf",
   "metadata": {},
   "outputs": [],
   "source": [
    "img = np.load('/home/vr-lab/Asish/8th Sem Radar Project/Datasets/CRUW_SR/2019_05_09_BM1S008/000100_0000.npy')\n",
    "print(img.shape)"
   ]
  },
  {
   "cell_type": "code",
   "execution_count": null,
   "id": "e9491720",
   "metadata": {},
   "outputs": [],
   "source": [
    "num=10\n",
    "print(rid,aid)\n",
    "plt.imshow(img[rid-num:rid+num,aid-num:aid+num])"
   ]
  },
  {
   "cell_type": "code",
   "execution_count": null,
   "id": "280b17a5",
   "metadata": {},
   "outputs": [],
   "source": [
    "a = np.load(\"/home/vr-lab/Asish/8th Sem Radar Project/Datasets/CRUW_seg/pedestrian/2019_05_29_PM2S015_000313_0000.npy\")"
   ]
  },
  {
   "cell_type": "code",
   "execution_count": null,
   "id": "0fa7d281",
   "metadata": {},
   "outputs": [],
   "source": [
    "plt.imshow(a)"
   ]
  },
  {
   "cell_type": "code",
   "execution_count": null,
   "id": "8b982bf2",
   "metadata": {},
   "outputs": [],
   "source": [
    "a = np.random.randint(0, 256, 10).reshape((5, 2))\n",
    "print(a)\n",
    "n_sampled_points = 5\n",
    "a[np.random.randint(0, a.shape[0], n_sampled_points)]"
   ]
  },
  {
   "cell_type": "code",
   "execution_count": null,
   "id": "048835c0",
   "metadata": {},
   "outputs": [],
   "source": [
    "imgw, imgh = 10, 20\n",
    "n_points = 20\n",
    "x = np.random.randint(0,imgw,n_points)\n",
    "y = np.random.randint(0,imgh,n_points)\n",
    "points  = [[x[i], y[i]] for i in range(len(x))]\n",
    "print(points)"
   ]
  }
 ],
 "metadata": {
  "kernelspec": {
   "display_name": "Python 3 (ipykernel)",
   "language": "python",
   "name": "python3"
  },
  "language_info": {
   "codemirror_mode": {
    "name": "ipython",
    "version": 3
   },
   "file_extension": ".py",
   "mimetype": "text/x-python",
   "name": "python",
   "nbconvert_exporter": "python",
   "pygments_lexer": "ipython3",
   "version": "3.10.4"
  }
 },
 "nbformat": 4,
 "nbformat_minor": 5
}
