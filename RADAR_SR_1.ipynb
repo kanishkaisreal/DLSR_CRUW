{
 "cells": [
  {
   "cell_type": "code",
   "execution_count": 1,
   "id": "0fa9bf60",
   "metadata": {},
   "outputs": [],
   "source": [
    "import numpy as np\n",
    "import glob\n",
    "import tensorflow as tf\n",
    "from tensorflow.keras import Model, Input, regularizers, initializers\n",
    "from tensorflow.keras.layers import Dense, Conv2D, MaxPool2D, UpSampling2D, Add, Dropout\n",
    "from tensorflow.keras.callbacks import EarlyStopping, ModelCheckpoint\n",
    "from tensorflow.keras.preprocessing import image\n",
    "import matplotlib.pyplot as plt\n",
    "from sklearn.model_selection import train_test_split\n",
    "import pickle\n",
    "from sklearn.utils import shuffle\n",
    "import PIL.ImageOps\n",
    "# import tensorflow_addons as tfa\n",
    "from focal_loss import BinaryFocalLoss\n",
    "# tf.debugging.set_log_device_placement(False)\n"
   ]
  },
  {
   "cell_type": "code",
   "execution_count": 2,
   "id": "353c8eb7",
   "metadata": {},
   "outputs": [
    {
     "name": "stdout",
     "output_type": "stream",
     "text": [
      "3000\n"
     ]
    }
   ],
   "source": [
    "lr_dense_images = glob.glob('/home/vr-lab/Asish/8th Sem Radar Project/LR-HR_Simulation/dense/HR/*.jpg') #returns path of images\n",
    "lr_dense_images.sort()\n",
    "print(len(lr_dense_images))\n",
    "lr_sparse_images = glob.glob('/home/vr-lab/Asish/8th Sem Radar Project/LR-HR_Simulation/sparse/HR/*.jpg') #returns path of images\n",
    "lr_sparse_images.sort()"
   ]
  },
  {
   "cell_type": "code",
   "execution_count": 3,
   "id": "f73e6e0b",
   "metadata": {},
   "outputs": [
    {
     "name": "stdout",
     "output_type": "stream",
     "text": [
      "3000\n"
     ]
    }
   ],
   "source": [
    "hr_dense_images = glob.glob('/home/vr-lab/Asish/8th Sem Radar Project/LR-HR_Simulation/dense/LR/*.jpg') #returns path of images\n",
    "hr_dense_images.sort()\n",
    "print(len(hr_dense_images))\n",
    "hr_sparse_images = glob.glob('/home/vr-lab/Asish/8th Sem Radar Project/LR-HR_Simulation/sparse/LR/*.jpg') #returns path of images\n",
    "hr_sparse_images.sort()"
   ]
  },
  {
   "cell_type": "code",
   "execution_count": 4,
   "id": "870ecb24",
   "metadata": {},
   "outputs": [
    {
     "name": "stderr",
     "output_type": "stream",
     "text": [
      " 41%|████      | 1235/3000 [00:22<00:15, 115.68it/s]"
     ]
    }
   ],
   "source": [
    "from tqdm import tqdm\n",
    "from multiprocessing import Pool\n",
    "import random\n",
    "progress = tqdm(total= len(lr_dense_images), position=0)\n",
    "img_size=(256,256,1)\n",
    "def read(path):\n",
    "  img = image.load_img(path, color_mode='grayscale', target_size=img_size)\n",
    "#   a = random.choice([0, 1])\n",
    "#   if a == 0:\n",
    "  img = PIL.ImageOps.invert(img)\n",
    "  img = image.img_to_array(img)\n",
    "  img = img/255.\n",
    "  progress.update(1)\n",
    "  return img\n",
    "\n",
    "def read_wout_inv(path):\n",
    "  img = image.load_img(path, color_mode='grayscale', target_size=img_size)\n",
    "#   a = random.choice([0, 1])\n",
    "#   if a == 0:\n",
    "#   img = PIL.ImageOps.invert(img)\n",
    "  img = image.img_to_array(img)\n",
    "  img = img/255.\n",
    "  progress.update(1)\n",
    "  return img\n",
    "  \n",
    "p = Pool(10)"
   ]
  },
  {
   "cell_type": "code",
   "execution_count": 5,
   "id": "65836b7c",
   "metadata": {},
   "outputs": [],
   "source": [
    "lr_train_img_array = p.map(read, lr_dense_images[:2200]) + p.map(read, lr_sparse_images[:2200])        # Put both sparse and dense in one variable\n",
    "lr_val_img_array = p.map(read, lr_dense_images[2200:]) + p.map(read, lr_sparse_images[2200:])        # Put both sparse and dense in one variable"
   ]
  },
  {
   "cell_type": "code",
   "execution_count": 6,
   "id": "cb422035",
   "metadata": {},
   "outputs": [],
   "source": [
    "hr_train_img_array = p.map(read, hr_dense_images[:2200]) + p.map(read, hr_sparse_images[:2200])\n",
    "hr_val_img_array = p.map(read, hr_dense_images[2200:]) + p.map(read, hr_sparse_images[2200:])"
   ]
  },
  {
   "cell_type": "code",
   "execution_count": 7,
   "id": "7a3e918f",
   "metadata": {},
   "outputs": [
    {
     "name": "stdout",
     "output_type": "stream",
     "text": [
      "(4400, 256, 256, 1)\n",
      "(1600, 256, 256, 1)\n",
      "(4400, 256, 256, 1)\n",
      "(1600, 256, 256, 1)\n"
     ]
    }
   ],
   "source": [
    "print(np.array(lr_train_img_array).shape)\n",
    "print(np.array(lr_val_img_array).shape)\n",
    "print(np.array(hr_train_img_array).shape)\n",
    "print(np.array(hr_val_img_array).shape)"
   ]
  },
  {
   "cell_type": "code",
   "execution_count": 8,
   "id": "39d5d9c5",
   "metadata": {},
   "outputs": [],
   "source": [
    "# Shuffle the arrays in unison for better training\n",
    "lr_train, hr_train = shuffle(lr_train_img_array, hr_train_img_array, random_state=0)\n",
    "lr_val, hr_val = shuffle(lr_val_img_array, hr_val_img_array, random_state=0)"
   ]
  },
  {
   "cell_type": "code",
   "execution_count": 9,
   "id": "117b0ed2",
   "metadata": {},
   "outputs": [],
   "source": [
    "lr_train = np.array(lr_train)\n",
    "hr_train = np.array(hr_train)\n",
    "lr_val = np.array(lr_val)\n",
    "hr_val = np.array(hr_val)\n",
    "\n",
    "# with tf.device('/GPU:0'):\n",
    "#     lr_train = tf.convert_to_tensor(lr_train)\n",
    "#     hr_train = tf.convert_to_tensor(hr_train)\n",
    "#     lr_val = tf.convert_to_tensor(lr_val)\n",
    "#     hr_val = tf.convert_to_tensor(hr_val)"
   ]
  },
  {
   "cell_type": "code",
   "execution_count": 10,
   "id": "a6d33797",
   "metadata": {},
   "outputs": [
    {
     "data": {
      "text/plain": [
       "<matplotlib.image.AxesImage at 0x7f050c737a90>"
      ]
     },
     "execution_count": 10,
     "metadata": {},
     "output_type": "execute_result"
    },
    {
     "data": {
      "image/png": "[encoded data removed]",
      "text/plain": [
       "<Figure size 432x288 with 1 Axes>"
      ]
     },
     "metadata": {
      "needs_background": "light"
     },
     "output_type": "display_data"
    }
   ],
   "source": [
    "i=15\n",
    "plt.imshow(hr_train[i])"
   ]
  },
  {
   "cell_type": "code",
   "execution_count": 11,
   "id": "a2c8aab0",
   "metadata": {
    "scrolled": false
   },
   "outputs": [
    {
     "data": {
      "text/plain": [
       "<matplotlib.image.AxesImage at 0x7f050c63e910>"
      ]
     },
     "execution_count": 11,
     "metadata": {},
     "output_type": "execute_result"
    },
    {
     "data": {
      "image/png": "[encoded data removed]",
      "text/plain": [
       "<Figure size 432x288 with 1 Axes>"
      ]
     },
     "metadata": {
      "needs_background": "light"
     },
     "output_type": "display_data"
    }
   ],
   "source": [
    "plt.imshow(lr_train[i])"
   ]
  },
  {
   "cell_type": "code",
   "execution_count": 12,
   "id": "c369156d",
   "metadata": {},
   "outputs": [],
   "source": [
    "import tensorflow.keras.backend as kb\n",
    "def custom_loss(y_actual,y_pred):\n",
    "    eps = 1e-20\n",
    "    custom_loss = -0.99*y_actual*kb.log(kb.abs(y_pred) + eps) - 0.01*(1-y_actual)*kb.log(kb.abs(1-y_pred)+eps)\n",
    "    return custom_loss"
   ]
  },
  {
   "cell_type": "code",
   "execution_count": 13,
   "id": "4a027466",
   "metadata": {},
   "outputs": [],
   "source": [
    "from tensorflow.keras.models import Model, Sequential\n",
    "from tensorflow.keras.layers import Dense\n",
    "from tensorflow.keras.optimizers import Adam\n",
    "from tensorflow.keras.losses import binary_crossentropy\n",
    "from tensorflow.keras.metrics import Accuracy, BinaryAccuracy\n",
    "from sklearn.metrics import accuracy_score\n",
    "import numpy as np\n",
    "import tensorflow as tf\n",
    "\n",
    "class F1_Score(tf.keras.metrics.Metric):\n",
    "\n",
    "    def __init__(self, name='f1_score', **kwargs):\n",
    "        super().__init__(name=name, **kwargs)\n",
    "        self.f1 = self.add_weight(name='f1', initializer='zeros')\n",
    "        self.precision_fn = Precision(thresholds=0.5)\n",
    "        self.recall_fn = Recall(thresholds=0.5)\n",
    "\n",
    "    def update_state(self, y_true, y_pred, sample_weight=None):\n",
    "        p = self.precision_fn(y_true, y_pred)\n",
    "        r = self.recall_fn(y_true, y_pred)\n",
    "        # since f1 is a variable, we use assign\n",
    "        self.f1.assign(2 * ((p * r) / (p + r + 1e-6)))\n",
    "\n",
    "    def result(self):\n",
    "        return self.f1\n",
    "\n",
    "    def reset_states(self):\n",
    "        # we also need to reset the state of the precision and recall objects\n",
    "        self.precision_fn.reset_states()\n",
    "        self.recall_fn.reset_states()\n",
    "        self.f1.assign(0)"
   ]
  },
  {
   "cell_type": "code",
   "execution_count": 14,
   "id": "ebabdc3c",
   "metadata": {},
   "outputs": [],
   "source": [
    "def f1_metric(y_true, y_pred):\n",
    "    true_positives = kb.sum(kb.round(kb.clip(y_true * y_pred, 0, 1)))\n",
    "    possible_positives = kb.sum(kb.round(kb.clip(y_true, 0, 1)))\n",
    "    predicted_positives = kb.sum(kb.round(kb.clip(y_pred, 0, 1)))\n",
    "    precision = true_positives / (predicted_positives + kb.epsilon())\n",
    "    recall = true_positives / (possible_positives + kb.epsilon())\n",
    "    f1_val = 2*(precision*recall)/(precision+recall+kb.epsilon())\n",
    "    return f1_val"
   ]
  },
  {
   "cell_type": "code",
   "execution_count": 15,
   "id": "aa9def47",
   "metadata": {},
   "outputs": [
    {
     "name": "stderr",
     "output_type": "stream",
     "text": [
      "2022-05-13 20:42:49.976992: I tensorflow/compiler/jit/xla_cpu_device.cc:41] Not creating XLA devices, tf_xla_enable_xla_devices not set\n",
      "2022-05-13 20:42:49.988768: I tensorflow/core/platform/cpu_feature_guard.cc:142] This TensorFlow binary is optimized with oneAPI Deep Neural Network Library (oneDNN) to use the following CPU instructions in performance-critical operations:  SSE4.1 SSE4.2\n",
      "To enable them in other operations, rebuild TensorFlow with the appropriate compiler flags.\n",
      "2022-05-13 20:42:50.045685: I tensorflow/core/common_runtime/process_util.cc:146] Creating new thread pool with default inter op setting: 2. Tune using inter_op_parallelism_threads for best performance.\n"
     ]
    }
   ],
   "source": [
    "# with tf.device('/GPU:0'):\n",
    "Input_img = Input(shape=img_size)  \n",
    "\n",
    "#encoding architecture\n",
    "# x1 = Conv2D(64, (3, 3), activation='relu', padding='same', \n",
    "#             kernel_initializer=initializers.RandomNormal(stddev=5), bias_initializer='zeros')(Input_img)\n",
    "x1 = Conv2D(64, (3, 3), activation='relu', padding='same', kernel_initializer=initializers.RandomNormal(stddev=5), kernel_regularizer =tf.keras.regularizers.l1(l=0.01))(Input_img)\n",
    "x2 = Conv2D(64, (3, 3), activation='relu', padding='same', kernel_initializer=initializers.RandomNormal(stddev=5), kernel_regularizer =tf.keras.regularizers.l1(l=0.01))(x1)\n",
    "x3 = MaxPool2D(padding='same')(x2)\n",
    "x4 = Conv2D(128, (3, 3), activation='relu', padding='same', kernel_initializer=initializers.RandomNormal(stddev=5), kernel_regularizer =tf.keras.regularizers.l1(l=0.01))(x3)\n",
    "x5 = Conv2D(128, (3, 3), activation='relu', padding='same', kernel_initializer=initializers.RandomNormal(stddev=5), kernel_regularizer =tf.keras.regularizers.l1(l=0.01))(x4)\n",
    "x6 = MaxPool2D(padding='same')(x5)\n",
    "encoded = Conv2D(256, (3, 3), activation='relu', padding='same', kernel_initializer=initializers.RandomNormal(stddev=5), kernel_regularizer =tf.keras.regularizers.l1(l=0.01))(x6)\n",
    "#encoded = Conv2D(64, (3, 3), activation='relu', padding='same')(x2)\n",
    "\n",
    "# decoding architecture\n",
    "x7 = UpSampling2D()(encoded)\n",
    "x8 = Conv2D(128, (3, 3), activation='relu', padding='same', kernel_initializer=initializers.RandomNormal(stddev=5), kernel_regularizer =tf.keras.regularizers.l1(l=0.01))(x7)\n",
    "x9 = Conv2D(128, (3, 3), activation='relu', padding='same', kernel_initializer=initializers.RandomNormal(stddev=5), kernel_regularizer =tf.keras.regularizers.l1(l=0.01))(x8)\n",
    "x10 = Add()([x5, x9])\n",
    "x11 = UpSampling2D()(x10)\n",
    "x12 = Conv2D(64, (3, 3), activation='relu', padding='same', kernel_initializer=initializers.RandomNormal(stddev=5), kernel_regularizer =tf.keras.regularizers.l1(l=0.01))(x11)\n",
    "x13 = Conv2D(64, (3, 3), activation='relu', padding='same', kernel_initializer=initializers.RandomNormal(stddev=5), kernel_regularizer =tf.keras.regularizers.l1(l=0.01))(x12)\n",
    "x14 = Add()([x2, x13])\n",
    "# x3 = UpSampling2D((2, 2))(x3)\n",
    "# x2 = Conv2D(128, (3, 3), activation='relu', padding='same')(x3)\n",
    "# x1 = Conv2D(256, (3, 3), activation='relu', padding='same')(x2)\n",
    "decoded = Conv2D(1, (3, 3), padding='same',activation='softmax', kernel_initializer=initializers.RandomNormal(stddev=5), kernel_regularizer =tf.keras.regularizers.l1(l=0.01))(x14)\n",
    "enc_dec = Model(Input_img, decoded)\n",
    "\n",
    "# loss_rec = tf.reduce_mean(tf.image.ssim(truth, reconstructed, 2.0))\n",
    "enc_dec.compile(optimizer='adam', loss=['mse'], metrics=['accuracy', f1_metric])"
   ]
  },
  {
   "cell_type": "code",
   "execution_count": 16,
   "id": "1e855918",
   "metadata": {
    "scrolled": true
   },
   "outputs": [
    {
     "name": "stdout",
     "output_type": "stream",
     "text": [
      "Model: \"model\"\n",
      "__________________________________________________________________________________________________\n",
      "Layer (type)                    Output Shape         Param #     Connected to                     \n",
      "==================================================================================================\n",
      "input_1 (InputLayer)            [(None, 256, 256, 1) 0                                            \n",
      "__________________________________________________________________________________________________\n",
      "conv2d (Conv2D)                 (None, 256, 256, 64) 640         input_1[0][0]                    \n",
      "__________________________________________________________________________________________________\n",
      "conv2d_1 (Conv2D)               (None, 256, 256, 64) 36928       conv2d[0][0]                     \n",
      "__________________________________________________________________________________________________\n",
      "max_pooling2d (MaxPooling2D)    (None, 128, 128, 64) 0           conv2d_1[0][0]                   \n",
      "__________________________________________________________________________________________________\n",
      "conv2d_2 (Conv2D)               (None, 128, 128, 128 73856       max_pooling2d[0][0]              \n",
      "__________________________________________________________________________________________________\n",
      "conv2d_3 (Conv2D)               (None, 128, 128, 128 147584      conv2d_2[0][0]                   \n",
      "__________________________________________________________________________________________________\n",
      "max_pooling2d_1 (MaxPooling2D)  (None, 64, 64, 128)  0           conv2d_3[0][0]                   \n",
      "__________________________________________________________________________________________________\n",
      "conv2d_4 (Conv2D)               (None, 64, 64, 256)  295168      max_pooling2d_1[0][0]            \n",
      "__________________________________________________________________________________________________\n",
      "up_sampling2d (UpSampling2D)    (None, 128, 128, 256 0           conv2d_4[0][0]                   \n",
      "__________________________________________________________________________________________________\n",
      "conv2d_5 (Conv2D)               (None, 128, 128, 128 295040      up_sampling2d[0][0]              \n",
      "__________________________________________________________________________________________________\n",
      "conv2d_6 (Conv2D)               (None, 128, 128, 128 147584      conv2d_5[0][0]                   \n",
      "__________________________________________________________________________________________________\n",
      "add (Add)                       (None, 128, 128, 128 0           conv2d_3[0][0]                   \n",
      "                                                                 conv2d_6[0][0]                   \n",
      "__________________________________________________________________________________________________\n",
      "up_sampling2d_1 (UpSampling2D)  (None, 256, 256, 128 0           add[0][0]                        \n",
      "__________________________________________________________________________________________________\n",
      "conv2d_7 (Conv2D)               (None, 256, 256, 64) 73792       up_sampling2d_1[0][0]            \n",
      "__________________________________________________________________________________________________\n",
      "conv2d_8 (Conv2D)               (None, 256, 256, 64) 36928       conv2d_7[0][0]                   \n",
      "__________________________________________________________________________________________________\n",
      "add_1 (Add)                     (None, 256, 256, 64) 0           conv2d_1[0][0]                   \n",
      "                                                                 conv2d_8[0][0]                   \n",
      "__________________________________________________________________________________________________\n",
      "conv2d_9 (Conv2D)               (None, 256, 256, 1)  577         add_1[0][0]                      \n",
      "==================================================================================================\n",
      "Total params: 1,108,097\n",
      "Trainable params: 1,108,097\n",
      "Non-trainable params: 0\n",
      "__________________________________________________________________________________________________\n"
     ]
    }
   ],
   "source": [
    "enc_dec.summary()"
   ]
  },
  {
   "cell_type": "code",
   "execution_count": 17,
   "id": "b2415005",
   "metadata": {
    "scrolled": false
   },
   "outputs": [
    {
     "name": "stdout",
     "output_type": "stream",
     "text": [
      "Num GPUs Available:  []\n"
     ]
    }
   ],
   "source": [
    "print(\"Num GPUs Available: \", tf.config.experimental.list_physical_devices('GPU'))"
   ]
  },
  {
   "cell_type": "code",
   "execution_count": 18,
   "id": "bd356634",
   "metadata": {},
   "outputs": [],
   "source": [
    "early_stopper = EarlyStopping(monitor='val_loss', min_delta=0.001, patience=50, verbose=1, mode='min')\n",
    "model_checkpoint =  ModelCheckpoint('models/SR_weightedce_checkpoint4.h5', save_best_only = True)"
   ]
  },
  {
   "cell_type": "code",
   "execution_count": null,
   "id": "6e1c8c89",
   "metadata": {
    "scrolled": true
   },
   "outputs": [
    {
     "name": "stdout",
     "output_type": "stream",
     "text": [
      "Epoch 1/200\n"
     ]
    },
    {
     "name": "stderr",
     "output_type": "stream",
     "text": [
      "2022-05-13 19:57:38.976500: W tensorflow/core/framework/cpu_allocator_impl.cc:82] Allocation of 1153433600 exceeds 10% of free system memory.\n",
      "2022-05-13 19:57:39.781125: W tensorflow/core/framework/cpu_allocator_impl.cc:82] Allocation of 1153433600 exceeds 10% of free system memory.\n",
      "2022-05-13 19:57:42.330254: W tensorflow/core/framework/cpu_allocator_impl.cc:82] Allocation of 536870912 exceeds 10% of free system memory.\n",
      "2022-05-13 19:57:42.429786: W tensorflow/core/framework/cpu_allocator_impl.cc:82] Allocation of 536870912 exceeds 10% of free system memory.\n",
      "2022-05-13 19:57:43.321772: W tensorflow/core/framework/cpu_allocator_impl.cc:82] Allocation of 134217728 exceeds 10% of free system memory.\n"
     ]
    },
    {
     "name": "stdout",
     "output_type": "stream",
     "text": [
      "  2/138 [..............................] - ETA: 1:14:19 - loss: 44151.2227 - accuracy: 0.9959 - f1_metric: 0.9987"
     ]
    }
   ],
   "source": [
    "history = enc_dec.fit(lr_train,hr_train, \n",
    "            batch_size=32,\n",
    "            epochs=200,\n",
    "            validation_data=(lr_val, hr_val),\n",
    "            callbacks=[early_stopper, model_checkpoint])"
   ]
  },
  {
   "cell_type": "code",
   "execution_count": 35,
   "id": "bb2cfacf",
   "metadata": {},
   "outputs": [
    {
     "name": "stdout",
     "output_type": "stream",
     "text": [
      "50/50 [==============================] - 7s 146ms/step - loss: 17.4815 - accuracy: 0.0021 - f1_metric: 0.0053\n",
      "val_loss, val_accuracy [17.481521606445312, 0.0021294783800840378, 0.005318781826645136]\n"
     ]
    }
   ],
   "source": [
    "results = enc_dec.evaluate(lr_val, hr_val)\n",
    "print('val_loss, val_accuracy', results)"
   ]
  },
  {
   "cell_type": "code",
   "execution_count": null,
   "id": "afc70e5e",
   "metadata": {},
   "outputs": [],
   "source": [
    "enc_dec.load_weights('models/SR_checkpoint4_with_and_wthout_inversion.h5')"
   ]
  },
  {
   "cell_type": "code",
   "execution_count": null,
   "id": "758b9647",
   "metadata": {},
   "outputs": [],
   "source": [
    "loss, acc = enc_dec.evaluate(lr_val, hr_val, verbose=2)\n",
    "print(\"Restored model, accuracy: {:5.2f}%\".format(100 * acc))"
   ]
  },
  {
   "cell_type": "code",
   "execution_count": 36,
   "id": "7ff7ab9a",
   "metadata": {},
   "outputs": [],
   "source": [
    "pred = enc_dec.predict(lr_val)"
   ]
  },
  {
   "cell_type": "code",
   "execution_count": 37,
   "id": "64533312",
   "metadata": {},
   "outputs": [
    {
     "name": "stdout",
     "output_type": "stream",
     "text": [
      "(1600, 256, 256, 1)\n"
     ]
    }
   ],
   "source": [
    "print(pred.shape)"
   ]
  },
  {
   "cell_type": "code",
   "execution_count": 38,
   "id": "b065b14d",
   "metadata": {},
   "outputs": [
    {
     "data": {
      "text/plain": [
       "<matplotlib.image.AxesImage at 0x7f82bc3cb370>"
      ]
     },
     "execution_count": 38,
     "metadata": {},
     "output_type": "execute_result"
    },
    {
     "data": {
      "image/png": "[encoded data removed]",
      "text/plain": [
       "<Figure size 432x288 with 1 Axes>"
      ]
     },
     "metadata": {
      "needs_background": "light"
     },
     "output_type": "display_data"
    }
   ],
   "source": [
    "plt.imshow(lr_val[1])"
   ]
  },
  {
   "cell_type": "code",
   "execution_count": 39,
   "id": "13526340",
   "metadata": {},
   "outputs": [
    {
     "data": {
      "text/plain": [
       "<matplotlib.image.AxesImage at 0x7f82bc330310>"
      ]
     },
     "execution_count": 39,
     "metadata": {},
     "output_type": "execute_result"
    },
    {
     "data": {
      "image/png": "[encoded data removed]",
      "text/plain": [
       "<Figure size 432x288 with 1 Axes>"
      ]
     },
     "metadata": {
      "needs_background": "light"
     },
     "output_type": "display_data"
    }
   ],
   "source": [
    "plt.imshow(pred[1])"
   ]
  },
  {
   "cell_type": "code",
   "execution_count": 33,
   "id": "b945d2f3",
   "metadata": {
    "scrolled": true
   },
   "outputs": [
    {
     "name": "stdout",
     "output_type": "stream",
     "text": [
      "tf.Tensor(\n",
      "[[[0.]\n",
      "  [0.]\n",
      "  [0.]\n",
      "  ...\n",
      "  [0.]\n",
      "  [0.]\n",
      "  [0.]]\n",
      "\n",
      " [[0.]\n",
      "  [0.]\n",
      "  [0.]\n",
      "  ...\n",
      "  [0.]\n",
      "  [0.]\n",
      "  [0.]]\n",
      "\n",
      " [[0.]\n",
      "  [0.]\n",
      "  [0.]\n",
      "  ...\n",
      "  [0.]\n",
      "  [0.]\n",
      "  [0.]]\n",
      "\n",
      " ...\n",
      "\n",
      " [[0.]\n",
      "  [0.]\n",
      "  [0.]\n",
      "  ...\n",
      "  [0.]\n",
      "  [0.]\n",
      "  [0.]]\n",
      "\n",
      " [[0.]\n",
      "  [0.]\n",
      "  [0.]\n",
      "  ...\n",
      "  [0.]\n",
      "  [0.]\n",
      "  [0.]]\n",
      "\n",
      " [[0.]\n",
      "  [0.]\n",
      "  [0.]\n",
      "  ...\n",
      "  [0.]\n",
      "  [0.]\n",
      "  [0.]]], shape=(256, 256, 1), dtype=float32)\n"
     ]
    }
   ],
   "source": [
    "print(custom_loss(lr_val[1], pred[1]))"
   ]
  }
 ],
 "metadata": {
  "kernelspec": {
   "display_name": "Python 3 (ipykernel)",
   "language": "python",
   "name": "python3"
  },
  "language_info": {
   "codemirror_mode": {
    "name": "ipython",
    "version": 3
   },
   "file_extension": ".py",
   "mimetype": "text/x-python",
   "name": "python",
   "nbconvert_exporter": "python",
   "pygments_lexer": "ipython3",
   "version": "3.10.4"
  }
 },
 "nbformat": 4,
 "nbformat_minor": 5
}
